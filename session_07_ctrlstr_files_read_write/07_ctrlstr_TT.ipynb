{
 "cells": [
  {
   "cell_type": "markdown",
   "metadata": {
    "tags": []
   },
   "source": [
    "## Control structures \n",
    "### BIOINF 575\n"
   ]
  },
  {
   "cell_type": "markdown",
   "metadata": {},
   "source": [
    "#### DATATYPES RECAP\n",
    "\n",
    "```\n",
    " STRINGS:      \"\" or    '' or   \"\"\"\"\"\" or   ''''''\n",
    " LISTS:        []\n",
    " TUPLES:       ()\n",
    " DICTIONARIES: {}, the item structure is  key:value\n",
    " SETS:         {}, the item structure is value\n",
    "```\n",
    "\n",
    "<img src = \"https://media.cheatography.com/storage/thumb/desmovalvo_python3-data-structures.750.jpg\" width = \"600\" />\n",
    "\n",
    "\n",
    "https://cheatography.com/mariofreitas/cheat-sheets/python-basics-lists-tuples-and-dictionaries/\n",
    "https://www.slideshare.net/gilcohen792/python3-cheatsheet\n",
    "https://github.com/leriomaggio/python-in-a-notebook/blob/master/03%20List%20and%20Tuples%20and%20Sets.ipynb"
   ]
  },
  {
   "cell_type": "code",
   "execution_count": 2,
   "metadata": {},
   "outputs": [],
   "source": [
    "amino_acids = {'Ser': 'Serine', 'Lys': 'Lysine', 'Ala': 'Alanine', 'Leu': 'Leucine'}"
   ]
  },
  {
   "cell_type": "markdown",
   "metadata": {},
   "source": [
    "To add a new dictionary element - subset the dictionay using the new key and assign the value or use the update function.    \n",
    "To get all dictionary items use the items method.\n",
    "\n"
   ]
  },
  {
   "cell_type": "code",
   "execution_count": 4,
   "metadata": {},
   "outputs": [],
   "source": [
    "amino_acids[\"new_key\"] = \"new_value\""
   ]
  },
  {
   "cell_type": "code",
   "execution_count": 6,
   "metadata": {},
   "outputs": [
    {
     "data": {
      "text/plain": [
       "{'Ser': 'Serine',\n",
       " 'Lys': 'Lysine',\n",
       " 'Ala': 'Alanine',\n",
       " 'Leu': 'Leucine',\n",
       " 'new_key': 'new_value'}"
      ]
     },
     "execution_count": 6,
     "metadata": {},
     "output_type": "execute_result"
    }
   ],
   "source": [
    "amino_acids"
   ]
  },
  {
   "cell_type": "markdown",
   "metadata": {},
   "source": [
    "#### <font color = \"red\">Exercise</font> \n",
    "\n",
    "Return the value for the key = \"Ala\".   \n",
    "If it does not exist return an empty string.   \n",
    "Create an empty set.   \n",
    "Add the following values to the set: 'Serine', 'Lysine', 'Alanine'.   \n"
   ]
  },
  {
   "cell_type": "code",
   "execution_count": 8,
   "metadata": {},
   "outputs": [
    {
     "data": {
      "text/plain": [
       "'Alanine'"
      ]
     },
     "execution_count": 8,
     "metadata": {},
     "output_type": "execute_result"
    }
   ],
   "source": [
    "amino_acids[\"Ala\"]"
   ]
  },
  {
   "cell_type": "code",
   "execution_count": 10,
   "metadata": {},
   "outputs": [
    {
     "data": {
      "text/plain": [
       "True"
      ]
     },
     "execution_count": 10,
     "metadata": {},
     "output_type": "execute_result"
    }
   ],
   "source": [
    "key = \"Ala\"\n",
    "key in amino_acids"
   ]
  },
  {
   "cell_type": "code",
   "execution_count": 12,
   "metadata": {},
   "outputs": [
    {
     "data": {
      "text/plain": [
       "'Alanine'"
      ]
     },
     "execution_count": 12,
     "metadata": {},
     "output_type": "execute_result"
    }
   ],
   "source": [
    "amino_acids.get(\"Ala\")"
   ]
  },
  {
   "cell_type": "code",
   "execution_count": 14,
   "metadata": {},
   "outputs": [],
   "source": [
    "amino_acids.get(\"ala\")"
   ]
  },
  {
   "cell_type": "code",
   "execution_count": 16,
   "metadata": {},
   "outputs": [
    {
     "name": "stdout",
     "output_type": "stream",
     "text": [
      "None\n"
     ]
    }
   ],
   "source": [
    "print(amino_acids.get(\"ala\"))"
   ]
  },
  {
   "cell_type": "code",
   "execution_count": 18,
   "metadata": {},
   "outputs": [
    {
     "data": {
      "text/plain": [
       "'Alanine'"
      ]
     },
     "execution_count": 18,
     "metadata": {},
     "output_type": "execute_result"
    }
   ],
   "source": [
    "amino_acids.get(\"Ala\", \"\")"
   ]
  },
  {
   "cell_type": "code",
   "execution_count": 20,
   "metadata": {},
   "outputs": [
    {
     "data": {
      "text/plain": [
       "''"
      ]
     },
     "execution_count": 20,
     "metadata": {},
     "output_type": "execute_result"
    }
   ],
   "source": [
    "amino_acids.get(\"ala\", \"\")"
   ]
  },
  {
   "cell_type": "code",
   "execution_count": 22,
   "metadata": {},
   "outputs": [],
   "source": [
    "my_set = {}"
   ]
  },
  {
   "cell_type": "code",
   "execution_count": 24,
   "metadata": {},
   "outputs": [
    {
     "data": {
      "text/plain": [
       "dict"
      ]
     },
     "execution_count": 24,
     "metadata": {},
     "output_type": "execute_result"
    }
   ],
   "source": [
    "type(my_set)"
   ]
  },
  {
   "cell_type": "code",
   "execution_count": 42,
   "metadata": {},
   "outputs": [
    {
     "data": {
      "text/plain": [
       "set"
      ]
     },
     "execution_count": 42,
     "metadata": {},
     "output_type": "execute_result"
    }
   ],
   "source": [
    "my_set = set()\n",
    "type(my_set)"
   ]
  },
  {
   "cell_type": "code",
   "execution_count": 44,
   "metadata": {},
   "outputs": [
    {
     "data": {
      "text/plain": [
       "set()"
      ]
     },
     "execution_count": 44,
     "metadata": {},
     "output_type": "execute_result"
    }
   ],
   "source": [
    "my_set"
   ]
  },
  {
   "cell_type": "code",
   "execution_count": 46,
   "metadata": {},
   "outputs": [],
   "source": [
    "my_set.update(('Serine', 'Lysine', 'Alanine'))"
   ]
  },
  {
   "cell_type": "code",
   "execution_count": 48,
   "metadata": {},
   "outputs": [
    {
     "data": {
      "text/plain": [
       "{'Alanine', 'Lysine', 'Serine'}"
      ]
     },
     "execution_count": 48,
     "metadata": {},
     "output_type": "execute_result"
    }
   ],
   "source": [
    "my_set"
   ]
  },
  {
   "cell_type": "code",
   "execution_count": 50,
   "metadata": {},
   "outputs": [
    {
     "name": "stdout",
     "output_type": "stream",
     "text": [
      "{'Lysine', 'Alanine', 'Serine1', 'Serine'}\n",
      "{'Lysine1', 'Alanine', 'Serine', 'Lysine', 'Serine1'}\n"
     ]
    },
    {
     "data": {
      "text/plain": [
       "{'Alanine', 'Alanine1', 'Lysine', 'Lysine1', 'Serine', 'Serine1'}"
      ]
     },
     "execution_count": 50,
     "metadata": {},
     "output_type": "execute_result"
    }
   ],
   "source": [
    "my_set.add('Serine1') \n",
    "print(my_set)\n",
    "my_set.add('Lysine1')\n",
    "print(my_set)\n",
    "my_set.add('Alanine1')\n",
    "my_set"
   ]
  },
  {
   "cell_type": "markdown",
   "metadata": {},
   "source": [
    "____________\n",
    "\n",
    "### Control Structures"
   ]
  },
  {
   "cell_type": "markdown",
   "metadata": {},
   "source": [
    "**Control Structures** are constructs that **give a block of code context as well as help repeat or selectivelly run it**.\n",
    "\n",
    "Control Structures control how the associated code works by \"wrapping\" it within its structure."
   ]
  },
  {
   "cell_type": "markdown",
   "metadata": {},
   "source": [
    "Types of control structures:\n",
    "* Sequential: default mode - execution of statements line by line - like reading a book or following a recipe\n",
    "* Selection: decisions, branching - allows the distinction between two or more disjunct situations in which different sets of statements should be executed <br>\n",
    "Selection structures:\n",
    "    * if &emsp;&emsp;&emsp;&emsp;&emsp;&emsp; - considers additional code on only one branch\n",
    "    * if-else &emsp; &emsp;&emsp;  - considers two branches\n",
    "    * if-elif-else &emsp;&nbsp;    - considers three branches\n",
    "* Repetition: looping - allows the repeatition of a set of statements multiple times <br>\n",
    "Loop structures:\n",
    "    * while &emsp;  &emsp;   &emsp; - number of repetitions **unknown**\n",
    "    * for &emsp;&emsp;&emsp;&emsp;&emsp; - number of repetitions **known**"
   ]
  },
  {
   "cell_type": "markdown",
   "metadata": {},
   "source": [
    "Selection and repetition statements typically rely on conditions that are evaluated as either true or false."
   ]
  },
  {
   "cell_type": "markdown",
   "metadata": {},
   "source": [
    "### if: selection/decision control structure"
   ]
  },
  {
   "cell_type": "markdown",
   "metadata": {},
   "source": [
    "if statements check specific conditions through the processing of the code <br>\n",
    "The syntax is as follows:"
   ]
  },
  {
   "cell_type": "markdown",
   "metadata": {},
   "source": [
    "```python\n",
    "if [not] <condition>:\n",
    "    <statements>\n",
    "elif <condition>:\n",
    "    <statements>\n",
    "else:\n",
    "    <statements>\n",
    "```"
   ]
  },
  {
   "cell_type": "code",
   "execution_count": 52,
   "metadata": {},
   "outputs": [
    {
     "name": "stdout",
     "output_type": "stream",
     "text": [
      "Equal to or greater than 10\n"
     ]
    }
   ],
   "source": [
    "# Comprehensive if-elif-else statement\n",
    "int_var = 20\n",
    "if int_var < 5:\n",
    "    print(\"Less than 5\")\n",
    "elif int_var < 10:\n",
    "    print(\"Between 5 and 10\")\n",
    "else:\n",
    "    print(\"Equal to or greater than 10\")"
   ]
  },
  {
   "cell_type": "code",
   "execution_count": 54,
   "metadata": {},
   "outputs": [
    {
     "name": "stdout",
     "output_type": "stream",
     "text": [
      "Less than 5\n"
     ]
    }
   ],
   "source": [
    "# Comprehensive if-elif-else statement\n",
    "int_var = 2\n",
    "if int_var < 5:\n",
    "    print(\"Less than 5\")\n",
    "elif int_var < 10:\n",
    "    print(\"Between 5 and 10\")\n",
    "else:\n",
    "    print(\"Equal to or greater than 10\")"
   ]
  },
  {
   "cell_type": "code",
   "execution_count": 56,
   "metadata": {},
   "outputs": [
    {
     "name": "stdout",
     "output_type": "stream",
     "text": [
      "Between 5 and 10\n"
     ]
    }
   ],
   "source": [
    "int_var = 7\n",
    "if int_var < 5:\n",
    "    print(\"Less than 5\")\n",
    "elif int_var < 10:\n",
    "    print(\"Between 5 and 10\")\n",
    "else:\n",
    "    print(\"Equal to or greater than 10\")"
   ]
  },
  {
   "cell_type": "code",
   "execution_count": 58,
   "metadata": {},
   "outputs": [
    {
     "ename": "SyntaxError",
     "evalue": "expected ':' (2413456760.py, line 2)",
     "output_type": "error",
     "traceback": [
      "\u001b[0;36m  Cell \u001b[0;32mIn[58], line 2\u001b[0;36m\u001b[0m\n\u001b[0;31m    if int_var < 5\u001b[0m\n\u001b[0m                  ^\u001b[0m\n\u001b[0;31mSyntaxError\u001b[0m\u001b[0;31m:\u001b[0m expected ':'\n"
     ]
    }
   ],
   "source": [
    "int_var = 2\n",
    "if int_var < 5\n",
    "    print(\"Less than 5\")\n",
    "elif int_var < 10:\n",
    "    print(\"Between 5 and 10\")\n",
    "else:\n",
    "    print(\"Equal to or greater than 10\")"
   ]
  },
  {
   "cell_type": "code",
   "execution_count": 60,
   "metadata": {},
   "outputs": [
    {
     "ename": "IndentationError",
     "evalue": "expected an indented block after 'if' statement on line 2 (2624457292.py, line 3)",
     "output_type": "error",
     "traceback": [
      "\u001b[0;36m  Cell \u001b[0;32mIn[60], line 3\u001b[0;36m\u001b[0m\n\u001b[0;31m    print(\"Less than 5\")\u001b[0m\n\u001b[0m    ^\u001b[0m\n\u001b[0;31mIndentationError\u001b[0m\u001b[0;31m:\u001b[0m expected an indented block after 'if' statement on line 2\n"
     ]
    }
   ],
   "source": [
    "int_var = 2\n",
    "if int_var < 5:\n",
    "print(\"Less than 5\")\n",
    "elif int_var < 10:\n",
    "    print(\"Between 5 and 10\")\n",
    "else:\n",
    "    print(\"Equal to or greater than 10\")"
   ]
  },
  {
   "cell_type": "code",
   "execution_count": null,
   "metadata": {},
   "outputs": [],
   "source": []
  },
  {
   "cell_type": "code",
   "execution_count": 70,
   "metadata": {},
   "outputs": [
    {
     "name": "stdout",
     "output_type": "stream",
     "text": [
      "Less than 5\n",
      "if branch\n",
      "else branch\n"
     ]
    }
   ],
   "source": [
    "int_var = 2\n",
    "if int_var < 5:\n",
    "    print(\"Less than 5\")\n",
    "    print(\"if branch\")\n",
    "elif int_var < 10:\n",
    "    print(\"Between 5 and 10\")\n",
    "    print(\"elif branch\")\n",
    "else:\n",
    "    print(\"Equal to or greater than 10\")\n",
    "print(\"else branch\")"
   ]
  },
  {
   "cell_type": "code",
   "execution_count": 72,
   "metadata": {},
   "outputs": [
    {
     "name": "stdout",
     "output_type": "stream",
     "text": [
      "Less than 5\n",
      "if branch\n"
     ]
    }
   ],
   "source": [
    "int_var = 2\n",
    "if int_var < 5:\n",
    "    print(\"Less than 5\")\n",
    "    print(\"if branch\")\n",
    "elif int_var < 10:\n",
    "    print(\"Between 5 and 10\")\n",
    "    print(\"elif branch\")\n",
    "else:\n",
    "    print(\"Equal to or greater than 10\")\n",
    "    print(\"else branch\")"
   ]
  },
  {
   "cell_type": "code",
   "execution_count": 74,
   "metadata": {},
   "outputs": [
    {
     "name": "stdout",
     "output_type": "stream",
     "text": [
      "Equal to or greater than 10\n",
      "else branch\n"
     ]
    }
   ],
   "source": [
    "int_var = 20\n",
    "if int_var < 5:\n",
    "    print(\"Less than 5\")\n",
    "    print(\"if branch\")\n",
    "elif int_var < 10:\n",
    "    print(\"Between 5 and 10\")\n",
    "    print(\"elif branch\")\n",
    "else:\n",
    "    print(\"Equal to or greater than 10\")\n",
    "    print(\"else branch\")"
   ]
  },
  {
   "cell_type": "code",
   "execution_count": null,
   "metadata": {},
   "outputs": [],
   "source": []
  },
  {
   "cell_type": "markdown",
   "metadata": {},
   "source": [
    "#### <font color = \"red\">Exercise</font>\n",
    "Write an if statement to check who is the youngest of three people with ages:\n",
    "age1, age2, age3\n"
   ]
  },
  {
   "cell_type": "code",
   "execution_count": 76,
   "metadata": {},
   "outputs": [
    {
     "name": "stdout",
     "output_type": "stream",
     "text": [
      "First person is the youngest\n"
     ]
    }
   ],
   "source": [
    "age1 = 20\n",
    "age2 = 50\n",
    "age3 = 34\n",
    "\n",
    "if age1 < age2: \n",
    "    print(\"First person is the youngest\")\n",
    "else:\n",
    "    print(\"Second person is the youngest\")\n"
   ]
  },
  {
   "cell_type": "code",
   "execution_count": 82,
   "metadata": {},
   "outputs": [
    {
     "name": "stdout",
     "output_type": "stream",
     "text": [
      "First person is the youngest\n"
     ]
    }
   ],
   "source": [
    "age1 = 20\n",
    "age2 = 20\n",
    "age3 = 34\n",
    "\n",
    "if age1 <= age2 and age1 <= age3: \n",
    "    print(\"First person is the youngest\")\n",
    "elif age2 <= age1 and age2 <= age3:\n",
    "    print(\"Second person is the youngest\")\n",
    "else:\n",
    "    print(\"Third person is the youngest\")"
   ]
  },
  {
   "cell_type": "code",
   "execution_count": 84,
   "metadata": {},
   "outputs": [
    {
     "name": "stdout",
     "output_type": "stream",
     "text": [
      "First person is the youngest\n",
      "20\n"
     ]
    }
   ],
   "source": [
    "age1 = 20\n",
    "age2 = 20\n",
    "age3 = 34\n",
    "lowest_age = age1\n",
    "\n",
    "if age1 <= age2 and age1 <= age3: \n",
    "    print(\"First person is the youngest\")\n",
    "    lowest_age = age1\n",
    "elif age2 <= age1 and age2 <= age3:\n",
    "    print(\"Second person is the youngest\")\n",
    "    lowest_age = age2\n",
    "else:\n",
    "    print(\"Third person is the youngest\")\n",
    "    lowest_age = age3\n",
    "\n",
    "\n",
    "print(lowest_age)"
   ]
  },
  {
   "cell_type": "code",
   "execution_count": 92,
   "metadata": {},
   "outputs": [
    {
     "name": "stdout",
     "output_type": "stream",
     "text": [
      "Second person is the youngest\n",
      "34\n"
     ]
    }
   ],
   "source": [
    "age1 = 200\n",
    "age2 = 34\n",
    "age3 = 34\n",
    "lowest_age = age1\n",
    "\n",
    "if age1 <= age2 and age1 <= age3: \n",
    "    print(\"First person is the youngest\")\n",
    "    lowest_age = age1\n",
    "elif age2 <= age1 and age2 <= age3:\n",
    "    print(\"Second person is the youngest\")\n",
    "    lowest_age = age2\n",
    "else:\n",
    "    print(\"Third person is the youngest\")\n",
    "    lowest_age = age3\n",
    "\n",
    "\n",
    "print(lowest_age)"
   ]
  },
  {
   "cell_type": "code",
   "execution_count": null,
   "metadata": {},
   "outputs": [],
   "source": []
  },
  {
   "cell_type": "markdown",
   "metadata": {},
   "source": [
    "### for: the repetitive control structure with a known number of steps"
   ]
  },
  {
   "cell_type": "markdown",
   "metadata": {},
   "source": [
    "To loop through a sequence of elements is to iterate"
   ]
  },
  {
   "cell_type": "markdown",
   "metadata": {},
   "source": [
    "```python\n",
    "for var in sequence:\n",
    "    statements\n",
    "```\n",
    "\n",
    "* A variable is used to go through each element of the iterable we go through.  \n",
    "* The variable will take the values of the iterrable elements one by one and then the block of code in the for loop will be executed for each value.\n",
    "* The code of the for loop - the code to be executed for each element of the iterrable - has to be indented - that is how the interpreter knows where the instructions that it needs to repeat stop\n",
    "\n",
    "Iterable:  An object capable of returning its members one at a time.\n",
    "https://docs.python.org/3/glossary.html\n",
    "https://docs.python.org/3/library/collections.abc.html?highlight=iterable#collections.abc.Iterable\n"
   ]
  },
  {
   "cell_type": "code",
   "execution_count": 94,
   "metadata": {},
   "outputs": [
    {
     "data": {
      "text/plain": [
       "[0, 1, 2]"
      ]
     },
     "execution_count": 94,
     "metadata": {},
     "output_type": "execute_result"
    }
   ],
   "source": [
    "list(range(3))"
   ]
  },
  {
   "cell_type": "code",
   "execution_count": 96,
   "metadata": {},
   "outputs": [],
   "source": [
    "i = 0\n",
    "# run statements\n",
    "i = 1\n",
    "# run statements\n",
    "i = 2\n",
    "# run statements"
   ]
  },
  {
   "cell_type": "code",
   "execution_count": null,
   "metadata": {},
   "outputs": [],
   "source": []
  },
  {
   "cell_type": "code",
   "execution_count": 98,
   "metadata": {},
   "outputs": [
    {
     "name": "stdout",
     "output_type": "stream",
     "text": [
      "0\n",
      "1\n",
      "2\n"
     ]
    }
   ],
   "source": [
    "# Print elements of a range\n",
    "for i in range(3):\n",
    "    print(i)"
   ]
  },
  {
   "cell_type": "code",
   "execution_count": 100,
   "metadata": {},
   "outputs": [
    {
     "data": {
      "text/plain": [
       "2"
      ]
     },
     "execution_count": 100,
     "metadata": {},
     "output_type": "execute_result"
    }
   ],
   "source": [
    "i"
   ]
  },
  {
   "cell_type": "code",
   "execution_count": 102,
   "metadata": {},
   "outputs": [
    {
     "ename": "IndentationError",
     "evalue": "expected an indented block after 'for' statement on line 1 (3296739069.py, line 2)",
     "output_type": "error",
     "traceback": [
      "\u001b[0;36m  Cell \u001b[0;32mIn[102], line 2\u001b[0;36m\u001b[0m\n\u001b[0;31m    print(i)\u001b[0m\n\u001b[0m    ^\u001b[0m\n\u001b[0;31mIndentationError\u001b[0m\u001b[0;31m:\u001b[0m expected an indented block after 'for' statement on line 1\n"
     ]
    }
   ],
   "source": [
    "for i in range(3):\n",
    "print(i)"
   ]
  },
  {
   "cell_type": "code",
   "execution_count": 104,
   "metadata": {},
   "outputs": [
    {
     "ename": "SyntaxError",
     "evalue": "expected ':' (859882524.py, line 1)",
     "output_type": "error",
     "traceback": [
      "\u001b[0;36m  Cell \u001b[0;32mIn[104], line 1\u001b[0;36m\u001b[0m\n\u001b[0;31m    for i in range(3)\u001b[0m\n\u001b[0m                     ^\u001b[0m\n\u001b[0;31mSyntaxError\u001b[0m\u001b[0;31m:\u001b[0m expected ':'\n"
     ]
    }
   ],
   "source": [
    "for i in range(3)\n",
    "    print(i)"
   ]
  },
  {
   "cell_type": "code",
   "execution_count": 106,
   "metadata": {},
   "outputs": [
    {
     "name": "stdout",
     "output_type": "stream",
     "text": [
      "step:\n",
      "0\n",
      "step:\n",
      "1\n",
      "step:\n",
      "2\n"
     ]
    }
   ],
   "source": [
    "for i in range(3):\n",
    "    print(\"step:\")\n",
    "    print(i)"
   ]
  },
  {
   "cell_type": "code",
   "execution_count": 108,
   "metadata": {},
   "outputs": [
    {
     "name": "stdout",
     "output_type": "stream",
     "text": [
      "step:\n",
      "step:\n",
      "step:\n",
      "2\n"
     ]
    }
   ],
   "source": [
    "for i in range(3):\n",
    "    print(\"step:\")\n",
    "print(i)"
   ]
  },
  {
   "cell_type": "code",
   "execution_count": 110,
   "metadata": {},
   "outputs": [
    {
     "name": "stdout",
     "output_type": "stream",
     "text": [
      "0 0\n",
      "0 1\n",
      "0 2\n",
      "0 3\n",
      "1 0\n",
      "1 1\n",
      "1 2\n",
      "1 3\n",
      "2 0\n",
      "2 1\n",
      "2 2\n",
      "2 3\n"
     ]
    }
   ],
   "source": [
    "# nested loop\n",
    "for i in range(3):\n",
    "    for j in range(4):\n",
    "        print(i,j)"
   ]
  },
  {
   "cell_type": "code",
   "execution_count": 114,
   "metadata": {},
   "outputs": [
    {
     "name": "stdout",
     "output_type": "stream",
     "text": [
      "[(0, 0)]\n",
      "[(0, 0), (0, 1)]\n",
      "[(0, 0), (0, 1), (0, 2)]\n",
      "[(0, 0), (0, 1), (0, 2), (0, 3)]\n",
      "[(0, 0), (0, 1), (0, 2), (0, 3), (1, 0)]\n",
      "[(0, 0), (0, 1), (0, 2), (0, 3), (1, 0), (1, 1)]\n",
      "[(0, 0), (0, 1), (0, 2), (0, 3), (1, 0), (1, 1), (1, 2)]\n",
      "[(0, 0), (0, 1), (0, 2), (0, 3), (1, 0), (1, 1), (1, 2), (1, 3)]\n",
      "[(0, 0), (0, 1), (0, 2), (0, 3), (1, 0), (1, 1), (1, 2), (1, 3), (2, 0)]\n",
      "[(0, 0), (0, 1), (0, 2), (0, 3), (1, 0), (1, 1), (1, 2), (1, 3), (2, 0), (2, 1)]\n",
      "[(0, 0), (0, 1), (0, 2), (0, 3), (1, 0), (1, 1), (1, 2), (1, 3), (2, 0), (2, 1), (2, 2)]\n",
      "[(0, 0), (0, 1), (0, 2), (0, 3), (1, 0), (1, 1), (1, 2), (1, 3), (2, 0), (2, 1), (2, 2), (2, 3)]\n"
     ]
    },
    {
     "data": {
      "text/plain": [
       "[(0, 0),\n",
       " (0, 1),\n",
       " (0, 2),\n",
       " (0, 3),\n",
       " (1, 0),\n",
       " (1, 1),\n",
       " (1, 2),\n",
       " (1, 3),\n",
       " (2, 0),\n",
       " (2, 1),\n",
       " (2, 2),\n",
       " (2, 3)]"
      ]
     },
     "execution_count": 114,
     "metadata": {},
     "output_type": "execute_result"
    }
   ],
   "source": [
    "l = []\n",
    "for i in range(3):\n",
    "    for j in range(4):\n",
    "        # print(i,j)\n",
    "        l.append((i,j))\n",
    "        print(l)\n",
    "l"
   ]
  },
  {
   "cell_type": "code",
   "execution_count": null,
   "metadata": {},
   "outputs": [],
   "source": []
  },
  {
   "cell_type": "code",
   "execution_count": 116,
   "metadata": {},
   "outputs": [
    {
     "data": {
      "text/plain": [
       "[(0, 0),\n",
       " (0, 1),\n",
       " (0, 2),\n",
       " (0, 3),\n",
       " (1, 0),\n",
       " (1, 1),\n",
       " (1, 2),\n",
       " (1, 3),\n",
       " (2, 0),\n",
       " (2, 1),\n",
       " (2, 2),\n",
       " (2, 3)]"
      ]
     },
     "execution_count": 116,
     "metadata": {},
     "output_type": "execute_result"
    }
   ],
   "source": [
    "l"
   ]
  },
  {
   "cell_type": "code",
   "execution_count": 118,
   "metadata": {},
   "outputs": [],
   "source": [
    "l = []\n",
    "for i in range(3):\n",
    "    for j in range(4):\n",
    "        # print(i,j)\n",
    "        l.append((i,j))\n",
    "        l"
   ]
  },
  {
   "cell_type": "code",
   "execution_count": 120,
   "metadata": {},
   "outputs": [
    {
     "data": {
      "text/plain": [
       "[(0, 0),\n",
       " (0, 1),\n",
       " (0, 2),\n",
       " (0, 3),\n",
       " (1, 0),\n",
       " (1, 1),\n",
       " (1, 2),\n",
       " (1, 3),\n",
       " (2, 0),\n",
       " (2, 1),\n",
       " (2, 2),\n",
       " (2, 3)]"
      ]
     },
     "execution_count": 120,
     "metadata": {},
     "output_type": "execute_result"
    }
   ],
   "source": [
    "l"
   ]
  },
  {
   "cell_type": "code",
   "execution_count": 128,
   "metadata": {},
   "outputs": [
    {
     "name": "stdout",
     "output_type": "stream",
     "text": [
      "elem1\n",
      "elem2\n",
      "elem3\n"
     ]
    }
   ],
   "source": [
    "list_var = [\"elem1\",\"elem2\",\"elem3\"]\n",
    "for i in list_var:\n",
    "    print(i)"
   ]
  },
  {
   "cell_type": "code",
   "execution_count": 130,
   "metadata": {},
   "outputs": [
    {
     "name": "stdout",
     "output_type": "stream",
     "text": [
      "elem1\n",
      "elem2\n",
      "elem3\n"
     ]
    }
   ],
   "source": [
    "list_var = [\"elem1\",\"elem2\",\"elem3\"]\n",
    "for list_elem in list_var:\n",
    "    print(list_elem)"
   ]
  },
  {
   "cell_type": "code",
   "execution_count": 126,
   "metadata": {},
   "outputs": [
    {
     "name": "stdout",
     "output_type": "stream",
     "text": [
      "0 elem1\n",
      "1 elem2\n",
      "2 elem3\n"
     ]
    }
   ],
   "source": [
    "for i in range(len(list_var)):\n",
    "    print(i,list_var[i])"
   ]
  },
  {
   "cell_type": "code",
   "execution_count": 134,
   "metadata": {},
   "outputs": [
    {
     "name": "stdout",
     "output_type": "stream",
     "text": [
      "0 elem1\n",
      "0 elem1\n",
      "1 elem2\n",
      "1 elem2\n",
      "2 elem3\n",
      "2 elem3\n"
     ]
    }
   ],
   "source": [
    "# use the enumerate function to create pairs of index value\n",
    "for i, list_elem in enumerate(list_var):\n",
    "    print(i, list_var[i])\n",
    "    print(i,list_elem)"
   ]
  },
  {
   "cell_type": "code",
   "execution_count": 138,
   "metadata": {},
   "outputs": [
    {
     "data": {
      "text/plain": [
       "[(0, 'elem1'), (1, 'elem2'), (2, 'elem3')]"
      ]
     },
     "execution_count": 138,
     "metadata": {},
     "output_type": "execute_result"
    }
   ],
   "source": [
    "list(enumerate(list_var))"
   ]
  },
  {
   "cell_type": "code",
   "execution_count": 142,
   "metadata": {},
   "outputs": [
    {
     "data": {
      "text/plain": [
       "[(0, 'A'), (1, 'C'), (2, 'G'), (3, 'T')]"
      ]
     },
     "execution_count": 142,
     "metadata": {},
     "output_type": "execute_result"
    }
   ],
   "source": [
    "list(enumerate(\"ACGT\"))"
   ]
  },
  {
   "cell_type": "code",
   "execution_count": 144,
   "metadata": {},
   "outputs": [
    {
     "name": "stdout",
     "output_type": "stream",
     "text": [
      "(0, 'A')\n",
      "(1, 'C')\n",
      "(2, 'G')\n",
      "(3, 'T')\n"
     ]
    }
   ],
   "source": [
    "for item in enumerate(\"ACGT\"):\n",
    "    print(item)"
   ]
  },
  {
   "cell_type": "code",
   "execution_count": 146,
   "metadata": {},
   "outputs": [
    {
     "name": "stdout",
     "output_type": "stream",
     "text": [
      "0\n",
      "A\n"
     ]
    }
   ],
   "source": [
    "i, val = (0, 'A')\n",
    "print(i)\n",
    "print(val)"
   ]
  },
  {
   "cell_type": "code",
   "execution_count": 148,
   "metadata": {},
   "outputs": [
    {
     "name": "stdout",
     "output_type": "stream",
     "text": [
      "0 A\n",
      "1 C\n",
      "2 G\n",
      "3 T\n"
     ]
    }
   ],
   "source": [
    "for i,val in enumerate(\"ACGT\"):\n",
    "    print(i, val)"
   ]
  },
  {
   "cell_type": "code",
   "execution_count": 4,
   "metadata": {},
   "outputs": [
    {
     "data": {
      "text/plain": [
       "[(0, 'A'), (1, 'C'), (2, 'G'), (3, 'T')]"
      ]
     },
     "execution_count": 4,
     "metadata": {},
     "output_type": "execute_result"
    }
   ],
   "source": [
    "list(enumerate(\"ACGT\"))"
   ]
  },
  {
   "cell_type": "code",
   "execution_count": 6,
   "metadata": {},
   "outputs": [
    {
     "name": "stdout",
     "output_type": "stream",
     "text": [
      "0\n",
      "A\n"
     ]
    }
   ],
   "source": [
    "x,y = (0, 'A')\n",
    "print(x)\n",
    "print(y)"
   ]
  },
  {
   "cell_type": "code",
   "execution_count": 154,
   "metadata": {},
   "outputs": [
    {
     "name": "stdout",
     "output_type": "stream",
     "text": [
      "A 3\n",
      "C 2\n"
     ]
    }
   ],
   "source": [
    "d = {\"A\":3,\"C\":2}\n",
    "for key, val in d.items():\n",
    "    print(key, val)"
   ]
  },
  {
   "cell_type": "code",
   "execution_count": 10,
   "metadata": {},
   "outputs": [
    {
     "name": "stdout",
     "output_type": "stream",
     "text": [
      "A\n",
      "C\n"
     ]
    }
   ],
   "source": [
    "d = {\"A\":3,\"C\":2}\n",
    "for key in d:\n",
    "    print(key)"
   ]
  },
  {
   "cell_type": "code",
   "execution_count": 12,
   "metadata": {},
   "outputs": [
    {
     "name": "stdout",
     "output_type": "stream",
     "text": [
      "A\n",
      "C\n"
     ]
    }
   ],
   "source": [
    "d = {\"A\":3,\"C\":2}\n",
    "for key in d.keys():\n",
    "    print(key)"
   ]
  },
  {
   "cell_type": "code",
   "execution_count": 14,
   "metadata": {},
   "outputs": [
    {
     "name": "stdout",
     "output_type": "stream",
     "text": [
      "3\n",
      "2\n"
     ]
    }
   ],
   "source": [
    "d = {\"A\":3,\"C\":2}\n",
    "for val in d.values():\n",
    "    print(val)"
   ]
  },
  {
   "cell_type": "markdown",
   "metadata": {},
   "source": [
    "##### Sequence types as well as dictionaries and sets are iterables"
   ]
  },
  {
   "cell_type": "code",
   "execution_count": 18,
   "metadata": {},
   "outputs": [
    {
     "name": "stdout",
     "output_type": "stream",
     "text": [
      "A 3\n",
      "C 2\n"
     ]
    }
   ],
   "source": [
    "# Go through the d dictionary items\n",
    "\n",
    "d = {\"A\":3,\"C\":2}\n",
    "for key, val in d.items():\n",
    "    print(key, val)"
   ]
  },
  {
   "cell_type": "code",
   "execution_count": 20,
   "metadata": {},
   "outputs": [
    {
     "name": "stdout",
     "output_type": "stream",
     "text": [
      "1\n",
      "2\n",
      "3\n",
      "4\n",
      "50\n"
     ]
    }
   ],
   "source": [
    "for elem in (1,2,3,4,50):\n",
    "    print(elem)"
   ]
  },
  {
   "cell_type": "code",
   "execution_count": 26,
   "metadata": {},
   "outputs": [
    {
     "name": "stdout",
     "output_type": "stream",
     "text": [
      "1\n",
      "3\n"
     ]
    }
   ],
   "source": [
    "for elem in range(1,5,2):\n",
    "    print(elem)"
   ]
  },
  {
   "cell_type": "markdown",
   "metadata": {},
   "source": [
    "#### <font color = \"red\">Exercise</font> \n",
    "Codons are sequences of three nucleotides<br>\n",
    "Nucleotides are: 'A', 'C', 'G', 'T'<br>\n",
    "Write code that outputs all possible combinations of codons<br>\n",
    "Then add a condition to display only the ones that have the group 'AC'"
   ]
  },
  {
   "cell_type": "code",
   "execution_count": 30,
   "metadata": {},
   "outputs": [
    {
     "name": "stdout",
     "output_type": "stream",
     "text": [
      "A\n",
      "C\n",
      "G\n",
      "T\n"
     ]
    }
   ],
   "source": [
    "nucleotides = \"ACGT\"\n",
    "for n in nucleotides:\n",
    "    print(n)"
   ]
  },
  {
   "cell_type": "code",
   "execution_count": 44,
   "metadata": {},
   "outputs": [
    {
     "name": "stdout",
     "output_type": "stream",
     "text": [
      "A\n",
      "C\n",
      "G\n",
      "T\n",
      "\n",
      "A\n",
      "C\n",
      "G\n",
      "T\n"
     ]
    }
   ],
   "source": [
    "nucleotides = \"ACGT\"\n",
    "\n",
    "for n1 in nucleotides:\n",
    "    print(n1)\n",
    "print()\n",
    "for n2 in nucleotides:\n",
    "    print(n2)"
   ]
  },
  {
   "cell_type": "code",
   "execution_count": 54,
   "metadata": {},
   "outputs": [
    {
     "name": "stdout",
     "output_type": "stream",
     "text": [
      "AAA\n",
      "AAC\n",
      "AAG\n",
      "AAT\n",
      "ACA\n",
      "ACC\n",
      "ACG\n",
      "ACT\n",
      "AGA\n",
      "AGC\n",
      "AGG\n",
      "AGT\n",
      "ATA\n",
      "ATC\n",
      "ATG\n",
      "ATT\n",
      "CAA\n",
      "CAC\n",
      "CAG\n",
      "CAT\n",
      "CCA\n",
      "CCC\n",
      "CCG\n",
      "CCT\n",
      "CGA\n",
      "CGC\n",
      "CGG\n",
      "CGT\n",
      "CTA\n",
      "CTC\n",
      "CTG\n",
      "CTT\n",
      "GAA\n",
      "GAC\n",
      "GAG\n",
      "GAT\n",
      "GCA\n",
      "GCC\n",
      "GCG\n",
      "GCT\n",
      "GGA\n",
      "GGC\n",
      "GGG\n",
      "GGT\n",
      "GTA\n",
      "GTC\n",
      "GTG\n",
      "GTT\n",
      "TAA\n",
      "TAC\n",
      "TAG\n",
      "TAT\n",
      "TCA\n",
      "TCC\n",
      "TCG\n",
      "TCT\n",
      "TGA\n",
      "TGC\n",
      "TGG\n",
      "TGT\n",
      "TTA\n",
      "TTC\n",
      "TTG\n",
      "TTT\n"
     ]
    }
   ],
   "source": [
    "nucleotides = \"ACGT\"\n",
    "\n",
    "for n1 in nucleotides:\n",
    "    for n2 in nucleotides:\n",
    "        for n3 in nucleotides:\n",
    "            codon = n1+n2+n3\n",
    "            print(codon)\n",
    "            # print(type(codon))"
   ]
  },
  {
   "cell_type": "code",
   "execution_count": 56,
   "metadata": {},
   "outputs": [
    {
     "name": "stdout",
     "output_type": "stream",
     "text": [
      "AAC\n",
      "ACA\n",
      "ACC\n",
      "ACG\n",
      "ACT\n",
      "CAC\n",
      "GAC\n",
      "TAC\n"
     ]
    }
   ],
   "source": [
    "nucleotides = \"ACGT\"\n",
    "group = \"AC\"\n",
    "for n1 in nucleotides:\n",
    "    for n2 in nucleotides:\n",
    "        for n3 in nucleotides:\n",
    "            codon = n1+n2+n3\n",
    "            if group in codon:\n",
    "                print(codon)\n",
    "                # print(type(codon))"
   ]
  },
  {
   "cell_type": "code",
   "execution_count": 58,
   "metadata": {},
   "outputs": [
    {
     "data": {
      "text/plain": [
       "'TTT'"
      ]
     },
     "execution_count": 58,
     "metadata": {},
     "output_type": "execute_result"
    }
   ],
   "source": [
    "codon"
   ]
  },
  {
   "cell_type": "code",
   "execution_count": 64,
   "metadata": {},
   "outputs": [
    {
     "name": "stdout",
     "output_type": "stream",
     "text": [
      "['AAC']\n",
      "['AAC', 'ACA']\n",
      "['AAC', 'ACA', 'ACC']\n",
      "['AAC', 'ACA', 'ACC', 'ACG']\n",
      "['AAC', 'ACA', 'ACC', 'ACG', 'ACT']\n",
      "['AAC', 'ACA', 'ACC', 'ACG', 'ACT', 'CAC']\n",
      "['AAC', 'ACA', 'ACC', 'ACG', 'ACT', 'CAC', 'GAC']\n",
      "['AAC', 'ACA', 'ACC', 'ACG', 'ACT', 'CAC', 'GAC', 'TAC']\n"
     ]
    }
   ],
   "source": [
    "group_codons = []\n",
    "nucleotides = \"ACGT\"\n",
    "group = \"AC\"\n",
    "for n1 in nucleotides:\n",
    "    for n2 in nucleotides:\n",
    "        for n3 in nucleotides:\n",
    "            codon = n1+n2+n3\n",
    "            if group in codon:\n",
    "                # print(codon)\n",
    "                group_codons.append(codon)\n",
    "                print(group_codons)\n",
    "                # print(type(codon))"
   ]
  },
  {
   "cell_type": "code",
   "execution_count": 66,
   "metadata": {},
   "outputs": [
    {
     "data": {
      "text/plain": [
       "['AAC', 'ACA', 'ACC', 'ACG', 'ACT', 'CAC', 'GAC', 'TAC']"
      ]
     },
     "execution_count": 66,
     "metadata": {},
     "output_type": "execute_result"
    }
   ],
   "source": [
    "group_codons"
   ]
  },
  {
   "cell_type": "markdown",
   "metadata": {},
   "source": [
    "<b>Think of a repetitive case when you could not use a for loop readily</b>"
   ]
  },
  {
   "cell_type": "code",
   "execution_count": null,
   "metadata": {},
   "outputs": [],
   "source": [
    "# finding a value in a list"
   ]
  },
  {
   "cell_type": "code",
   "execution_count": null,
   "metadata": {},
   "outputs": [],
   "source": []
  },
  {
   "cell_type": "markdown",
   "metadata": {},
   "source": [
    "### while: the repetitive control structure with unkown number of steps"
   ]
  },
  {
   "cell_type": "markdown",
   "metadata": {},
   "source": [
    "loop stopped by a condition\n",
    "\n",
    "<b>while loops make it easy to cause an 'infinite loop'</b>"
   ]
  },
  {
   "cell_type": "markdown",
   "metadata": {},
   "source": [
    "```python\n",
    "while condition:\n",
    "    statements\n",
    "```"
   ]
  },
  {
   "cell_type": "code",
   "execution_count": 76,
   "metadata": {},
   "outputs": [
    {
     "name": "stdout",
     "output_type": "stream",
     "text": [
      "Step 1\n",
      "Step 2\n",
      "Step 3\n",
      "Step 4\n",
      "Step 5\n",
      "Step 6\n",
      "Step 7\n",
      "Step 8\n",
      "Step 9\n",
      "Step 10\n"
     ]
    }
   ],
   "source": [
    "# while counting steps\n",
    "step = 1\n",
    "while step <= 10:\n",
    "    print('Step ' + str(step))\n",
    "    step = step + 1"
   ]
  },
  {
   "cell_type": "code",
   "execution_count": 80,
   "metadata": {},
   "outputs": [
    {
     "name": "stdin",
     "output_type": "stream",
     "text": [
      " 5\n"
     ]
    },
    {
     "name": "stdout",
     "output_type": "stream",
     "text": [
      "5 Lower than or equal to what I am looking for\n"
     ]
    },
    {
     "name": "stdin",
     "output_type": "stream",
     "text": [
      " 50\n"
     ]
    },
    {
     "name": "stdout",
     "output_type": "stream",
     "text": [
      "50 Greater than what I am looking for\n"
     ]
    },
    {
     "name": "stdin",
     "output_type": "stream",
     "text": [
      " 20\n"
     ]
    },
    {
     "name": "stdout",
     "output_type": "stream",
     "text": [
      "20 Greater than what I am looking for\n"
     ]
    },
    {
     "name": "stdin",
     "output_type": "stream",
     "text": [
      " 15\n"
     ]
    },
    {
     "name": "stdout",
     "output_type": "stream",
     "text": [
      "15 Greater than what I am looking for\n"
     ]
    },
    {
     "name": "stdin",
     "output_type": "stream",
     "text": [
      " 10\n"
     ]
    }
   ],
   "source": [
    "# while I get a value different than the \n",
    "# one I am looking for (10) ask for another value \n",
    "cond = True\n",
    "while cond:\n",
    "    value = int(input()) \n",
    "    if value > 10:\n",
    "        print(value, 'Greater than what I am looking for')\n",
    "    if value < 10:\n",
    "        print(value, 'Lower than or equal to what I am looking for')\n",
    "    cond = (value != 10)"
   ]
  },
  {
   "cell_type": "markdown",
   "metadata": {},
   "source": [
    "```python\n",
    "# Infinite loop\n",
    "cond = True\n",
    "while cond:\n",
    "    print('Infinite loop')\n",
    "```"
   ]
  },
  {
   "cell_type": "code",
   "execution_count": 72,
   "metadata": {},
   "outputs": [],
   "source": [
    "#cond = True\n",
    "#while cond:\n",
    "#    print('Infinite loop')"
   ]
  },
  {
   "cell_type": "code",
   "execution_count": null,
   "metadata": {},
   "outputs": [],
   "source": []
  },
  {
   "cell_type": "code",
   "execution_count": null,
   "metadata": {},
   "outputs": [],
   "source": []
  },
  {
   "cell_type": "code",
   "execution_count": null,
   "metadata": {},
   "outputs": [],
   "source": []
  },
  {
   "cell_type": "markdown",
   "metadata": {},
   "source": [
    "#### <font color = \"red\">Exercise</font> \n",
    "Assign a variable sequence_length the value 100 <br>\n",
    "Substract powers of 2 (2, 4, 8, 16,...) and  until the value drops below 0<br>\n",
    "Print the power of 2 used in the last substraction."
   ]
  },
  {
   "cell_type": "code",
   "execution_count": 90,
   "metadata": {},
   "outputs": [
    {
     "data": {
      "text/plain": [
       "99"
      ]
     },
     "execution_count": 90,
     "metadata": {},
     "output_type": "execute_result"
    }
   ],
   "source": [
    "power = 0\n",
    "base = 2\n",
    "sequence_length = 100\n",
    "if sequence_length >= 0:\n",
    "    sequence_length = sequence_length - base ** power\n",
    "    power = power + 1\n",
    "\n",
    "sequence_length"
   ]
  },
  {
   "cell_type": "code",
   "execution_count": 92,
   "metadata": {},
   "outputs": [
    {
     "data": {
      "text/plain": [
       "97"
      ]
     },
     "execution_count": 92,
     "metadata": {},
     "output_type": "execute_result"
    }
   ],
   "source": [
    "if sequence_length >= 0:\n",
    "    sequence_length = sequence_length - base ** power\n",
    "    power = power + 1\n",
    "\n",
    "sequence_length"
   ]
  },
  {
   "cell_type": "code",
   "execution_count": 94,
   "metadata": {},
   "outputs": [
    {
     "data": {
      "text/plain": [
       "93"
      ]
     },
     "execution_count": 94,
     "metadata": {},
     "output_type": "execute_result"
    }
   ],
   "source": [
    "if sequence_length >= 0:\n",
    "    sequence_length = sequence_length - base ** power\n",
    "    power = power + 1\n",
    "\n",
    "\n",
    "sequence_length"
   ]
  },
  {
   "cell_type": "code",
   "execution_count": 96,
   "metadata": {},
   "outputs": [
    {
     "data": {
      "text/plain": [
       "3"
      ]
     },
     "execution_count": 96,
     "metadata": {},
     "output_type": "execute_result"
    }
   ],
   "source": [
    "power"
   ]
  },
  {
   "cell_type": "code",
   "execution_count": 106,
   "metadata": {},
   "outputs": [
    {
     "name": "stdout",
     "output_type": "stream",
     "text": [
      "100 0 1\n",
      "99\n",
      "99 1 2\n",
      "97\n",
      "97 2 4\n",
      "93\n",
      "93 3 8\n",
      "85\n",
      "85 4 16\n",
      "69\n",
      "69 5 32\n",
      "37\n",
      "37 6 64\n",
      "-27\n"
     ]
    },
    {
     "data": {
      "text/plain": [
       "-27"
      ]
     },
     "execution_count": 106,
     "metadata": {},
     "output_type": "execute_result"
    }
   ],
   "source": [
    "power = 0\n",
    "base = 2\n",
    "sequence_length = 100\n",
    "while sequence_length >= 0:\n",
    "    print(sequence_length, power, base ** power)\n",
    "    sequence_length = sequence_length - base ** power\n",
    "    print(sequence_length)\n",
    "    power = power + 1\n",
    "\n",
    "sequence_length"
   ]
  },
  {
   "cell_type": "markdown",
   "metadata": {},
   "source": [
    "### More control statements"
   ]
  },
  {
   "cell_type": "code",
   "execution_count": null,
   "metadata": {},
   "outputs": [],
   "source": []
  },
  {
   "cell_type": "markdown",
   "metadata": {},
   "source": [
    "Control statements are special structures that have control behavior. \n",
    "They can be represented by a keyword:\n",
    "\n",
    "```python\n",
    "pass\n",
    "break\n",
    "continue\n",
    "```"
   ]
  },
  {
   "cell_type": "markdown",
   "metadata": {},
   "source": [
    "<b>pass: do nothing</b>"
   ]
  },
  {
   "cell_type": "code",
   "execution_count": 108,
   "metadata": {},
   "outputs": [],
   "source": [
    "value = 20\n",
    "if value == 20:\n",
    "    pass"
   ]
  },
  {
   "cell_type": "code",
   "execution_count": 110,
   "metadata": {},
   "outputs": [
    {
     "ename": "SyntaxError",
     "evalue": "incomplete input (1370860514.py, line 3)",
     "output_type": "error",
     "traceback": [
      "\u001b[0;36m  Cell \u001b[0;32mIn[110], line 3\u001b[0;36m\u001b[0m\n\u001b[0;31m    \u001b[0m\n\u001b[0m    ^\u001b[0m\n\u001b[0;31mSyntaxError\u001b[0m\u001b[0;31m:\u001b[0m incomplete input\n"
     ]
    }
   ],
   "source": [
    "value = 20\n",
    "if value == 20:\n",
    "    "
   ]
  },
  {
   "cell_type": "code",
   "execution_count": 122,
   "metadata": {},
   "outputs": [
    {
     "name": "stdout",
     "output_type": "stream",
     "text": [
      "202\n"
     ]
    }
   ],
   "source": [
    "value = 202\n",
    "if value == 20:\n",
    "    pass\n",
    "else:\n",
    "    print(value)"
   ]
  },
  {
   "cell_type": "code",
   "execution_count": 124,
   "metadata": {},
   "outputs": [
    {
     "name": "stdout",
     "output_type": "stream",
     "text": [
      "202\n"
     ]
    }
   ],
   "source": [
    "value = 202\n",
    "if value != 20:\n",
    "    print(value)"
   ]
  },
  {
   "cell_type": "code",
   "execution_count": 126,
   "metadata": {},
   "outputs": [],
   "source": [
    "for i in range(3):\n",
    "    pass"
   ]
  },
  {
   "cell_type": "code",
   "execution_count": 128,
   "metadata": {},
   "outputs": [
    {
     "data": {
      "text/plain": [
       "2"
      ]
     },
     "execution_count": 128,
     "metadata": {},
     "output_type": "execute_result"
    }
   ],
   "source": [
    "i"
   ]
  },
  {
   "cell_type": "markdown",
   "metadata": {},
   "source": [
    "<b>break: stops loops"
   ]
  },
  {
   "cell_type": "markdown",
   "metadata": {},
   "source": [
    "<b>break: allows the user to stop the closest loop</b>"
   ]
  },
  {
   "cell_type": "code",
   "execution_count": 130,
   "metadata": {},
   "outputs": [
    {
     "name": "stdout",
     "output_type": "stream",
     "text": [
      "0\n",
      "1\n",
      "2\n"
     ]
    }
   ],
   "source": [
    "# while break - it already has a condition that stops it but ...\n",
    "cond = True\n",
    "i = 0\n",
    "while cond:\n",
    "    if i == 3:\n",
    "        break\n",
    "    else:\n",
    "        print(i)\n",
    "        i = i + 1"
   ]
  },
  {
   "cell_type": "code",
   "execution_count": 132,
   "metadata": {},
   "outputs": [
    {
     "name": "stdout",
     "output_type": "stream",
     "text": [
      "0\n",
      "1\n",
      "2\n"
     ]
    },
    {
     "ename": "KeyboardInterrupt",
     "evalue": "",
     "output_type": "error",
     "traceback": [
      "\u001b[0;31m---------------------------------------------------------------------------\u001b[0m",
      "\u001b[0;31mKeyboardInterrupt\u001b[0m                         Traceback (most recent call last)",
      "Cell \u001b[0;32mIn[132], line 3\u001b[0m\n\u001b[1;32m      1\u001b[0m cond \u001b[38;5;241m=\u001b[39m \u001b[38;5;28;01mTrue\u001b[39;00m\n\u001b[1;32m      2\u001b[0m i \u001b[38;5;241m=\u001b[39m \u001b[38;5;241m0\u001b[39m\n\u001b[0;32m----> 3\u001b[0m \u001b[38;5;28;01mwhile\u001b[39;00m cond:\n\u001b[1;32m      4\u001b[0m     \u001b[38;5;28;01mif\u001b[39;00m i \u001b[38;5;241m!=\u001b[39m \u001b[38;5;241m3\u001b[39m:\n\u001b[1;32m      5\u001b[0m         \u001b[38;5;28mprint\u001b[39m(i)\n",
      "\u001b[0;31mKeyboardInterrupt\u001b[0m: "
     ]
    }
   ],
   "source": [
    "# infinite loop\n",
    "\n",
    "#cond = True\n",
    "#i = 0\n",
    "#while cond:\n",
    "#    if i != 3:\n",
    "#        print(i)\n",
    "#        i = i + 1"
   ]
  },
  {
   "cell_type": "code",
   "execution_count": 134,
   "metadata": {},
   "outputs": [
    {
     "name": "stdout",
     "output_type": "stream",
     "text": [
      "0\n",
      "1\n",
      "2\n"
     ]
    }
   ],
   "source": [
    "# for + break - kind of makes it a while\n",
    "for i in range(10):\n",
    "    if i==3:\n",
    "        break\n",
    "    else:\n",
    "        print(i)"
   ]
  },
  {
   "cell_type": "code",
   "execution_count": 136,
   "metadata": {},
   "outputs": [
    {
     "name": "stdout",
     "output_type": "stream",
     "text": [
      "0 0\n",
      "0 1\n",
      "0 2\n",
      "1 0\n",
      "1 1\n",
      "1 2\n",
      "2 0\n",
      "2 1\n",
      "2 2\n",
      "3 0\n",
      "3 1\n",
      "3 2\n",
      "4 0\n",
      "4 1\n",
      "4 2\n",
      "5 0\n",
      "5 1\n",
      "5 2\n",
      "6 0\n",
      "6 1\n",
      "6 2\n",
      "7 0\n",
      "7 1\n",
      "7 2\n",
      "8 0\n",
      "8 1\n",
      "8 2\n",
      "9 0\n",
      "9 1\n",
      "9 2\n"
     ]
    }
   ],
   "source": [
    "# for + break - kind of makes it a while\n",
    "for i in range(10):\n",
    "    for j in range(10):\n",
    "        if j==3:\n",
    "            break\n",
    "        else:\n",
    "            print(i,j)"
   ]
  },
  {
   "cell_type": "markdown",
   "metadata": {},
   "source": [
    "<b>continue: just continue looping</b>"
   ]
  },
  {
   "cell_type": "markdown",
   "metadata": {},
   "source": [
    "Forces the loop to move on to the next item, skipping anything after it (that is in the loop) "
   ]
  },
  {
   "cell_type": "code",
   "execution_count": 138,
   "metadata": {},
   "outputs": [
    {
     "name": "stdout",
     "output_type": "stream",
     "text": [
      "0\n",
      "This statement gets executed\n",
      "1\n",
      "This statement gets executed\n",
      "2\n",
      "This statement gets executed\n",
      "3\n",
      "This statement gets executed\n",
      "7\n",
      "This statement gets executed\n",
      "8\n",
      "This statement gets executed\n",
      "9\n",
      "This statement gets executed\n"
     ]
    }
   ],
   "source": [
    "# Continue example\n",
    "for i in range(10):\n",
    "    if i > 3 and i < 7:\n",
    "        continue\n",
    "    else:\n",
    "        print(i)\n",
    "    print('This statement gets executed')"
   ]
  },
  {
   "cell_type": "code",
   "execution_count": 140,
   "metadata": {},
   "outputs": [
    {
     "name": "stdout",
     "output_type": "stream",
     "text": [
      "0\n",
      "This statement gets executed\n",
      "1\n",
      "This statement gets executed\n",
      "2\n",
      "This statement gets executed\n",
      "3\n",
      "This statement gets executed\n",
      "This statement gets executed\n",
      "This statement gets executed\n",
      "This statement gets executed\n",
      "7\n",
      "This statement gets executed\n",
      "8\n",
      "This statement gets executed\n",
      "9\n",
      "This statement gets executed\n"
     ]
    }
   ],
   "source": [
    "for i in range(10):\n",
    "    if i <= 3 or i >= 7:\n",
    "        print(i)\n",
    "    print('This statement gets executed')"
   ]
  },
  {
   "cell_type": "code",
   "execution_count": 142,
   "metadata": {},
   "outputs": [
    {
     "name": "stdout",
     "output_type": "stream",
     "text": [
      "0\n",
      "This statement gets executed\n",
      "1\n",
      "This statement gets executed\n",
      "2\n",
      "This statement gets executed\n",
      "3\n",
      "This statement gets executed\n",
      "7\n",
      "This statement gets executed\n",
      "8\n",
      "This statement gets executed\n",
      "9\n",
      "This statement gets executed\n"
     ]
    }
   ],
   "source": [
    "for i in range(10):\n",
    "    if i <= 3 or i >= 7:\n",
    "        print(i)\n",
    "        print('This statement gets executed')"
   ]
  },
  {
   "cell_type": "code",
   "execution_count": 144,
   "metadata": {},
   "outputs": [
    {
     "name": "stdout",
     "output_type": "stream",
     "text": [
      "200\n"
     ]
    }
   ],
   "source": [
    "print(200)"
   ]
  },
  {
   "cell_type": "code",
   "execution_count": 146,
   "metadata": {},
   "outputs": [
    {
     "data": {
      "text/plain": [
       "10"
      ]
     },
     "execution_count": 146,
     "metadata": {},
     "output_type": "execute_result"
    }
   ],
   "source": [
    "abs(-10)"
   ]
  },
  {
   "cell_type": "code",
   "execution_count": 148,
   "metadata": {},
   "outputs": [
    {
     "data": {
      "text/plain": [
       "\u001b[0;31mSignature:\u001b[0m \u001b[0mabs\u001b[0m\u001b[0;34m(\u001b[0m\u001b[0mx\u001b[0m\u001b[0;34m,\u001b[0m \u001b[0;34m/\u001b[0m\u001b[0;34m)\u001b[0m\u001b[0;34m\u001b[0m\u001b[0;34m\u001b[0m\u001b[0m\n",
       "\u001b[0;31mDocstring:\u001b[0m Return the absolute value of the argument.\n",
       "\u001b[0;31mType:\u001b[0m      builtin_function_or_method"
      ]
     },
     "metadata": {},
     "output_type": "display_data"
    }
   ],
   "source": [
    "abs??"
   ]
  },
  {
   "cell_type": "markdown",
   "metadata": {},
   "source": [
    "_____________\n",
    "### Functions"
   ]
  },
  {
   "cell_type": "markdown",
   "metadata": {},
   "source": [
    "Think of functions like the **recipe of a cake**. They start with a title (definition). They often require some ingredients (arguments). They need step-wise instructions (code). And, at the end, all is put together in a delicious cake (returned data)."
   ]
  },
  {
   "cell_type": "markdown",
   "metadata": {},
   "source": [
    "Additionally, **functions are the easiest way to be efficiently lazy**.\n",
    "The code is easier to understand and reusable."
   ]
  },
  {
   "cell_type": "markdown",
   "metadata": {},
   "source": [
    "### Function Definition"
   ]
  },
  {
   "cell_type": "markdown",
   "metadata": {},
   "source": [
    "```python\n",
    "def function_name(arg1, arg2, darg=None):\n",
    "    # instructions to compute result\n",
    "    return result\n",
    "```"
   ]
  },
  {
   "cell_type": "markdown",
   "metadata": {},
   "source": [
    "* Each function should have a name. This is declared by using the `def` keyword\n",
    "* A function doesn't need to have arguments to work\n",
    "* The collection of arguments for a given function is called a **signature**\n",
    "* The function works within its own ***scope*** unless it is using something that was passed to it or is global\n",
    "* `return` statments exit the function while passing on the data\n",
    "* **Defining a function does not run a function**. \n",
    "* To run a function, it must be called using `([args])` after the function name"
   ]
  },
  {
   "cell_type": "markdown",
   "metadata": {},
   "source": [
    "### Function Call - running a function"
   ]
  },
  {
   "cell_type": "markdown",
   "metadata": {},
   "source": [
    "```python\n",
    "function_result = function_name(val1, val2, dval)\n",
    "```"
   ]
  },
  {
   "cell_type": "markdown",
   "metadata": {},
   "source": [
    "---\n",
    "### Function Examples"
   ]
  },
  {
   "cell_type": "code",
   "execution_count": 153,
   "metadata": {},
   "outputs": [],
   "source": [
    "# A function that does nothing\n",
    "def do_pass():\n",
    "    pass\n",
    "\n"
   ]
  },
  {
   "cell_type": "code",
   "execution_count": 163,
   "metadata": {},
   "outputs": [],
   "source": [
    "def do_pass():\n",
    "    \"\"\"\n",
    "    Function that does nothing\n",
    "    \"\"\"\n",
    "    pass\n",
    "\n"
   ]
  },
  {
   "cell_type": "code",
   "execution_count": 165,
   "metadata": {},
   "outputs": [
    {
     "data": {
      "text/plain": [
       "\u001b[0;31mSignature:\u001b[0m \u001b[0mdo_pass\u001b[0m\u001b[0;34m(\u001b[0m\u001b[0;34m)\u001b[0m\u001b[0;34m\u001b[0m\u001b[0;34m\u001b[0m\u001b[0m\n",
       "\u001b[0;31mDocstring:\u001b[0m Function that does nothing\n",
       "\u001b[0;31mFile:\u001b[0m      /var/folders/cl/dt65jxps2kv3w090fzrjdz6c0000gs/T/ipykernel_35896/3122113295.py\n",
       "\u001b[0;31mType:\u001b[0m      function"
      ]
     },
     "metadata": {},
     "output_type": "display_data"
    }
   ],
   "source": [
    "do_pass?"
   ]
  },
  {
   "cell_type": "code",
   "execution_count": 167,
   "metadata": {},
   "outputs": [],
   "source": [
    "do_pass()"
   ]
  },
  {
   "cell_type": "code",
   "execution_count": 169,
   "metadata": {},
   "outputs": [
    {
     "name": "stdout",
     "output_type": "stream",
     "text": [
      "None\n"
     ]
    }
   ],
   "source": [
    "val = do_pass()\n",
    "print(val)"
   ]
  },
  {
   "cell_type": "code",
   "execution_count": null,
   "metadata": {},
   "outputs": [],
   "source": []
  },
  {
   "cell_type": "code",
   "execution_count": 155,
   "metadata": {
    "collapsed": true,
    "jupyter": {
     "outputs_hidden": true
    },
    "scrolled": true
   },
   "outputs": [
    {
     "name": "stdout",
     "output_type": "stream",
     "text": [
      "Variable               Type             Data/Info\n",
      "-------------------------------------------------\n",
      "NamespaceMagics        MetaHasTraits    <class 'IPython.core.magi<...>mespace.NamespaceMagics'>\n",
      "base                   int              2\n",
      "codon                  str              TTT\n",
      "cond                   bool             True\n",
      "d                      dict             n=2\n",
      "dataframe_columns      function         <function dataframe_columns at 0x1558d0cc0>\n",
      "dataframe_hash         function         <function dataframe_hash at 0x1558d1a80>\n",
      "do_pass                function         <function do_pass at 0x1558d1bc0>\n",
      "dtypes_str             function         <function dtypes_str at 0x1558d1ee0>\n",
      "elem                   int              3\n",
      "get_dataframes         function         <function get_dataframes at 0x1558d1e40>\n",
      "get_ipython            function         <function get_ipython at 0x107895300>\n",
      "getpass                module           <module 'getpass' from '/<...>b/python3.12/getpass.py'>\n",
      "group                  str              AC\n",
      "group_codons           list             n=8\n",
      "hashlib                module           <module 'hashlib' from '/<...>b/python3.12/hashlib.py'>\n",
      "i                      int              9\n",
      "import_pandas_safely   function         <function import_pandas_safely at 0x1558d0900>\n",
      "is_data_frame          function         <function is_data_frame at 0x1558d1760>\n",
      "j                      int              3\n",
      "json                   module           <module 'json' from '/opt<...>on3.12/json/__init__.py'>\n",
      "key                    str              C\n",
      "n                      str              T\n",
      "n1                     str              T\n",
      "n2                     str              T\n",
      "n3                     str              T\n",
      "ncs                    str              acgt\n",
      "nucleotides            str              ACGT\n",
      "power                  int              7\n",
      "sequence_length        int              -27\n",
      "step                   int              11\n",
      "sys                    module           <module 'sys' (built-in)>\n",
      "val                    int              2\n",
      "value                  int              202\n",
      "x                      int              0\n",
      "y                      str              A\n"
     ]
    }
   ],
   "source": [
    "%whos"
   ]
  },
  {
   "cell_type": "code",
   "execution_count": 171,
   "metadata": {},
   "outputs": [
    {
     "data": {
      "text/plain": [
       "8"
      ]
     },
     "execution_count": 171,
     "metadata": {},
     "output_type": "execute_result"
    }
   ],
   "source": [
    "def do_sum():\n",
    "    return 5 + 3\n",
    "\n",
    "do_sum()"
   ]
  },
  {
   "cell_type": "code",
   "execution_count": 173,
   "metadata": {},
   "outputs": [
    {
     "name": "stdout",
     "output_type": "stream",
     "text": [
      "100\n"
     ]
    },
    {
     "data": {
      "text/plain": [
       "8"
      ]
     },
     "execution_count": 173,
     "metadata": {},
     "output_type": "execute_result"
    }
   ],
   "source": [
    "def do_sum():\n",
    "    x = 100\n",
    "    print(x)\n",
    "    return 5 + 3\n",
    "    y = 200\n",
    "    print(y)\n",
    "    \n",
    "\n",
    "do_sum()"
   ]
  },
  {
   "cell_type": "code",
   "execution_count": 179,
   "metadata": {},
   "outputs": [
    {
     "name": "stdout",
     "output_type": "stream",
     "text": [
      "100\n",
      "200\n",
      "None\n"
     ]
    }
   ],
   "source": [
    "def do_sum():\n",
    "    x = 100\n",
    "    print(x)\n",
    "    if x == 101:\n",
    "        return 5 + 3\n",
    "    y = 200\n",
    "    print(y)\n",
    "    \n",
    "\n",
    "result = do_sum()\n",
    "print(result)"
   ]
  },
  {
   "cell_type": "code",
   "execution_count": 181,
   "metadata": {},
   "outputs": [
    {
     "name": "stdout",
     "output_type": "stream",
     "text": [
      "100\n",
      "200\n",
      "0\n"
     ]
    }
   ],
   "source": [
    "def do_sum():\n",
    "    result = 0\n",
    "    x = 100\n",
    "    print(x)\n",
    "    if x == 101:\n",
    "        result =  5 + 3\n",
    "    y = 200\n",
    "    print(y)\n",
    "    return result\n",
    "    \n",
    "\n",
    "result = do_sum()\n",
    "print(result)"
   ]
  },
  {
   "cell_type": "code",
   "execution_count": 187,
   "metadata": {},
   "outputs": [
    {
     "name": "stdout",
     "output_type": "stream",
     "text": [
      "x= 5\n",
      "y= 3\n"
     ]
    },
    {
     "data": {
      "text/plain": [
       "8"
      ]
     },
     "execution_count": 187,
     "metadata": {},
     "output_type": "execute_result"
    }
   ],
   "source": [
    "# function arguments - internal variables\n",
    "def do_sum(x, y):\n",
    "    print(\"x=\",x)\n",
    "    print(\"y=\",y)\n",
    "    \n",
    "    return x + y\n",
    "\n",
    "# number and order of arguments is important \n",
    "# followed based on the funtion definition\n",
    "do_sum(5,3)"
   ]
  },
  {
   "cell_type": "code",
   "execution_count": 189,
   "metadata": {},
   "outputs": [
    {
     "name": "stdout",
     "output_type": "stream",
     "text": [
      "x= 4\n",
      "y= 6\n"
     ]
    },
    {
     "data": {
      "text/plain": [
       "10"
      ]
     },
     "execution_count": 189,
     "metadata": {},
     "output_type": "execute_result"
    }
   ],
   "source": [
    "do_sum(4,6)"
   ]
  },
  {
   "cell_type": "code",
   "execution_count": 191,
   "metadata": {},
   "outputs": [
    {
     "name": "stdout",
     "output_type": "stream",
     "text": [
      "x= 7\n",
      "y= 3\n"
     ]
    },
    {
     "data": {
      "text/plain": [
       "10"
      ]
     },
     "execution_count": 191,
     "metadata": {},
     "output_type": "execute_result"
    }
   ],
   "source": [
    "do_sum(y = 3, x = 7)"
   ]
  },
  {
   "cell_type": "code",
   "execution_count": 193,
   "metadata": {},
   "outputs": [
    {
     "name": "stdout",
     "output_type": "stream",
     "text": [
      "x= 3\n",
      "y= 7\n"
     ]
    },
    {
     "data": {
      "text/plain": [
       "10"
      ]
     },
     "execution_count": 193,
     "metadata": {},
     "output_type": "execute_result"
    }
   ],
   "source": [
    "do_sum(3,7)"
   ]
  },
  {
   "cell_type": "code",
   "execution_count": 195,
   "metadata": {},
   "outputs": [
    {
     "data": {
      "text/plain": [
       "\u001b[0;31mSignature:\u001b[0m \u001b[0mdo_sum\u001b[0m\u001b[0;34m(\u001b[0m\u001b[0mx\u001b[0m\u001b[0;34m,\u001b[0m \u001b[0my\u001b[0m\u001b[0;34m)\u001b[0m\u001b[0;34m\u001b[0m\u001b[0;34m\u001b[0m\u001b[0m\n",
       "\u001b[0;31mDocstring:\u001b[0m <no docstring>\n",
       "\u001b[0;31mSource:\u001b[0m   \n",
       "\u001b[0;32mdef\u001b[0m \u001b[0mdo_sum\u001b[0m\u001b[0;34m(\u001b[0m\u001b[0mx\u001b[0m\u001b[0;34m,\u001b[0m \u001b[0my\u001b[0m\u001b[0;34m)\u001b[0m\u001b[0;34m:\u001b[0m\u001b[0;34m\u001b[0m\n",
       "\u001b[0;34m\u001b[0m    \u001b[0mprint\u001b[0m\u001b[0;34m(\u001b[0m\u001b[0;34m\"x=\"\u001b[0m\u001b[0;34m,\u001b[0m\u001b[0mx\u001b[0m\u001b[0;34m)\u001b[0m\u001b[0;34m\u001b[0m\n",
       "\u001b[0;34m\u001b[0m    \u001b[0mprint\u001b[0m\u001b[0;34m(\u001b[0m\u001b[0;34m\"y=\"\u001b[0m\u001b[0;34m,\u001b[0m\u001b[0my\u001b[0m\u001b[0;34m)\u001b[0m\u001b[0;34m\u001b[0m\n",
       "\u001b[0;34m\u001b[0m    \u001b[0;34m\u001b[0m\n",
       "\u001b[0;34m\u001b[0m    \u001b[0;32mreturn\u001b[0m \u001b[0mx\u001b[0m \u001b[0;34m+\u001b[0m \u001b[0my\u001b[0m\u001b[0;34m\u001b[0m\u001b[0;34m\u001b[0m\u001b[0m\n",
       "\u001b[0;31mFile:\u001b[0m      /var/folders/cl/dt65jxps2kv3w090fzrjdz6c0000gs/T/ipykernel_35896/1953680716.py\n",
       "\u001b[0;31mType:\u001b[0m      function"
      ]
     },
     "metadata": {},
     "output_type": "display_data"
    }
   ],
   "source": [
    "do_sum??"
   ]
  },
  {
   "cell_type": "code",
   "execution_count": 197,
   "metadata": {},
   "outputs": [
    {
     "name": "stdout",
     "output_type": "stream",
     "text": [
      "x= test\n",
      "y= sum\n"
     ]
    },
    {
     "data": {
      "text/plain": [
       "'testsum'"
      ]
     },
     "execution_count": 197,
     "metadata": {},
     "output_type": "execute_result"
    }
   ],
   "source": [
    "do_sum(\"test\",\"sum\")"
   ]
  },
  {
   "cell_type": "code",
   "execution_count": 199,
   "metadata": {},
   "outputs": [
    {
     "name": "stdout",
     "output_type": "stream",
     "text": [
      "x= 5\n",
      "y= A\n"
     ]
    },
    {
     "ename": "TypeError",
     "evalue": "unsupported operand type(s) for +: 'int' and 'str'",
     "output_type": "error",
     "traceback": [
      "\u001b[0;31m---------------------------------------------------------------------------\u001b[0m",
      "\u001b[0;31mTypeError\u001b[0m                                 Traceback (most recent call last)",
      "Cell \u001b[0;32mIn[199], line 1\u001b[0m\n\u001b[0;32m----> 1\u001b[0m do_sum(\u001b[38;5;241m5\u001b[39m,\u001b[38;5;124m\"\u001b[39m\u001b[38;5;124mA\u001b[39m\u001b[38;5;124m\"\u001b[39m)\n",
      "Cell \u001b[0;32mIn[187], line 6\u001b[0m, in \u001b[0;36mdo_sum\u001b[0;34m(x, y)\u001b[0m\n\u001b[1;32m      3\u001b[0m \u001b[38;5;28mprint\u001b[39m(\u001b[38;5;124m\"\u001b[39m\u001b[38;5;124mx=\u001b[39m\u001b[38;5;124m\"\u001b[39m,x)\n\u001b[1;32m      4\u001b[0m \u001b[38;5;28mprint\u001b[39m(\u001b[38;5;124m\"\u001b[39m\u001b[38;5;124my=\u001b[39m\u001b[38;5;124m\"\u001b[39m,y)\n\u001b[0;32m----> 6\u001b[0m \u001b[38;5;28;01mreturn\u001b[39;00m x \u001b[38;5;241m+\u001b[39m y\n",
      "\u001b[0;31mTypeError\u001b[0m: unsupported operand type(s) for +: 'int' and 'str'"
     ]
    }
   ],
   "source": [
    "do_sum(5,\"A\")"
   ]
  },
  {
   "cell_type": "code",
   "execution_count": 201,
   "metadata": {},
   "outputs": [
    {
     "name": "stdout",
     "output_type": "stream",
     "text": [
      "x= 10\n",
      "y= 20\n"
     ]
    },
    {
     "data": {
      "text/plain": [
       "30"
      ]
     },
     "execution_count": 201,
     "metadata": {},
     "output_type": "execute_result"
    }
   ],
   "source": [
    "# external variables\n",
    "int_var1 = 10\n",
    "int_var2 = 20\n",
    "do_sum(int_var1, int_var2)"
   ]
  },
  {
   "cell_type": "code",
   "execution_count": 203,
   "metadata": {},
   "outputs": [
    {
     "ename": "TypeError",
     "evalue": "do_sum() missing 1 required positional argument: 'y'",
     "output_type": "error",
     "traceback": [
      "\u001b[0;31m---------------------------------------------------------------------------\u001b[0m",
      "\u001b[0;31mTypeError\u001b[0m                                 Traceback (most recent call last)",
      "Cell \u001b[0;32mIn[203], line 1\u001b[0m\n\u001b[0;32m----> 1\u001b[0m do_sum(\u001b[38;5;241m5\u001b[39m)\n",
      "\u001b[0;31mTypeError\u001b[0m: do_sum() missing 1 required positional argument: 'y'"
     ]
    }
   ],
   "source": [
    "do_sum(5)"
   ]
  },
  {
   "cell_type": "code",
   "execution_count": 205,
   "metadata": {},
   "outputs": [
    {
     "data": {
      "text/plain": [
       "8"
      ]
     },
     "execution_count": 205,
     "metadata": {},
     "output_type": "execute_result"
    }
   ],
   "source": [
    "# function arguments - internal variables - default values\n",
    "def do_sum(x = 3, y = 5):\n",
    "    return x + y\n",
    "\n",
    "do_sum()"
   ]
  },
  {
   "cell_type": "code",
   "execution_count": 207,
   "metadata": {},
   "outputs": [
    {
     "data": {
      "text/plain": [
       "10"
      ]
     },
     "execution_count": 207,
     "metadata": {},
     "output_type": "execute_result"
    }
   ],
   "source": [
    "do_sum(5)"
   ]
  },
  {
   "cell_type": "code",
   "execution_count": 209,
   "metadata": {},
   "outputs": [
    {
     "data": {
      "text/plain": [
       "18"
      ]
     },
     "execution_count": 209,
     "metadata": {},
     "output_type": "execute_result"
    }
   ],
   "source": [
    "do_sum(y = 15)"
   ]
  },
  {
   "cell_type": "code",
   "execution_count": 211,
   "metadata": {},
   "outputs": [
    {
     "data": {
      "text/plain": [
       "5"
      ]
     },
     "execution_count": 211,
     "metadata": {},
     "output_type": "execute_result"
    }
   ],
   "source": [
    "# function arguments - default values\n",
    "def do_sum(x = 3, y = None):\n",
    "    if y == None:\n",
    "        return x\n",
    "    else:\n",
    "        return x + y\n",
    "\n",
    "do_sum(5)"
   ]
  },
  {
   "cell_type": "code",
   "execution_count": 213,
   "metadata": {},
   "outputs": [
    {
     "data": {
      "text/plain": [
       "5"
      ]
     },
     "execution_count": 213,
     "metadata": {},
     "output_type": "execute_result"
    }
   ],
   "source": [
    "def do_sum(x = 3, y = None):\n",
    "    result = None\n",
    "    if y == None:\n",
    "        result = x\n",
    "    else:\n",
    "        result = x + y\n",
    "    return result\n",
    "\n",
    "do_sum(5)"
   ]
  },
  {
   "cell_type": "code",
   "execution_count": 217,
   "metadata": {},
   "outputs": [
    {
     "name": "stdout",
     "output_type": "stream",
     "text": [
      "1 2 3 4 A\n"
     ]
    }
   ],
   "source": [
    "print(1,2,3,4,\"A\")"
   ]
  },
  {
   "cell_type": "code",
   "execution_count": null,
   "metadata": {},
   "outputs": [],
   "source": []
  },
  {
   "cell_type": "markdown",
   "metadata": {},
   "source": [
    "#### You can create a function that has any number of unlabeld arguments (*args)\n",
    "* use * in front of the parameter - it has to be the first parameter in the function\n",
    "* a tuple will be created with those arguments\n"
   ]
  },
  {
   "cell_type": "code",
   "execution_count": 219,
   "metadata": {},
   "outputs": [
    {
     "name": "stdout",
     "output_type": "stream",
     "text": [
      "y = (3, 4, 5)\n"
     ]
    },
    {
     "data": {
      "text/plain": [
       "17"
      ]
     },
     "execution_count": 219,
     "metadata": {},
     "output_type": "execute_result"
    }
   ],
   "source": [
    "# function arguments - default values\n",
    "def do_sum(*y, x = 3):\n",
    "    print(\"y =\", y)\n",
    "    if y == ():\n",
    "        return x\n",
    "    else:\n",
    "        return x + sum(y)\n",
    "\n",
    "do_sum(3,4,5,x = 5)"
   ]
  },
  {
   "cell_type": "code",
   "execution_count": 221,
   "metadata": {},
   "outputs": [
    {
     "name": "stdout",
     "output_type": "stream",
     "text": [
      "y = (3, 4, 5, 10)\n"
     ]
    },
    {
     "data": {
      "text/plain": [
       "27"
      ]
     },
     "execution_count": 221,
     "metadata": {},
     "output_type": "execute_result"
    }
   ],
   "source": [
    "\n",
    "\n",
    "do_sum(3,4,5,10,x = 5)"
   ]
  },
  {
   "cell_type": "code",
   "execution_count": 223,
   "metadata": {},
   "outputs": [],
   "source": [
    "do_sum = 6"
   ]
  },
  {
   "cell_type": "code",
   "execution_count": 225,
   "metadata": {},
   "outputs": [
    {
     "ename": "TypeError",
     "evalue": "'int' object is not callable",
     "output_type": "error",
     "traceback": [
      "\u001b[0;31m---------------------------------------------------------------------------\u001b[0m",
      "\u001b[0;31mTypeError\u001b[0m                                 Traceback (most recent call last)",
      "Cell \u001b[0;32mIn[225], line 1\u001b[0m\n\u001b[0;32m----> 1\u001b[0m do_sum(\u001b[38;5;241m3\u001b[39m,\u001b[38;5;241m4\u001b[39m,\u001b[38;5;241m5\u001b[39m,\u001b[38;5;241m10\u001b[39m,x \u001b[38;5;241m=\u001b[39m \u001b[38;5;241m5\u001b[39m)\n",
      "\u001b[0;31mTypeError\u001b[0m: 'int' object is not callable"
     ]
    }
   ],
   "source": [
    "do_sum(3,4,5,10,x = 5)"
   ]
  },
  {
   "cell_type": "code",
   "execution_count": 227,
   "metadata": {},
   "outputs": [],
   "source": [
    "def do_sum(*y, x = 3):\n",
    "    print(\"y =\", y)\n",
    "    if y == ():\n",
    "        return x\n",
    "    else:\n",
    "        return x + sum(y)"
   ]
  },
  {
   "cell_type": "code",
   "execution_count": 229,
   "metadata": {},
   "outputs": [
    {
     "name": "stdout",
     "output_type": "stream",
     "text": [
      "y = (3, 4, 5, 10)\n"
     ]
    },
    {
     "data": {
      "text/plain": [
       "27"
      ]
     },
     "execution_count": 229,
     "metadata": {},
     "output_type": "execute_result"
    }
   ],
   "source": [
    "do_sum(3,4,5,10,x = 5)"
   ]
  },
  {
   "cell_type": "code",
   "execution_count": 231,
   "metadata": {},
   "outputs": [
    {
     "name": "stdout",
     "output_type": "stream",
     "text": [
      "y = ((3, 4, 5, 10),)\n"
     ]
    },
    {
     "ename": "TypeError",
     "evalue": "unsupported operand type(s) for +: 'int' and 'tuple'",
     "output_type": "error",
     "traceback": [
      "\u001b[0;31m---------------------------------------------------------------------------\u001b[0m",
      "\u001b[0;31mTypeError\u001b[0m                                 Traceback (most recent call last)",
      "Cell \u001b[0;32mIn[231], line 1\u001b[0m\n\u001b[0;32m----> 1\u001b[0m do_sum((\u001b[38;5;241m3\u001b[39m,\u001b[38;5;241m4\u001b[39m,\u001b[38;5;241m5\u001b[39m,\u001b[38;5;241m10\u001b[39m),x \u001b[38;5;241m=\u001b[39m \u001b[38;5;241m5\u001b[39m)\n",
      "Cell \u001b[0;32mIn[227], line 6\u001b[0m, in \u001b[0;36mdo_sum\u001b[0;34m(x, *y)\u001b[0m\n\u001b[1;32m      4\u001b[0m     \u001b[38;5;28;01mreturn\u001b[39;00m x\n\u001b[1;32m      5\u001b[0m \u001b[38;5;28;01melse\u001b[39;00m:\n\u001b[0;32m----> 6\u001b[0m     \u001b[38;5;28;01mreturn\u001b[39;00m x \u001b[38;5;241m+\u001b[39m \u001b[38;5;28msum\u001b[39m(y)\n",
      "\u001b[0;31mTypeError\u001b[0m: unsupported operand type(s) for +: 'int' and 'tuple'"
     ]
    }
   ],
   "source": [
    "do_sum((3,4,5,10),x = 5)"
   ]
  },
  {
   "cell_type": "code",
   "execution_count": 233,
   "metadata": {},
   "outputs": [],
   "source": [
    "def do_sum(y, x = 3):\n",
    "    print(\"y =\", y)\n",
    "    if y == ():\n",
    "        return x\n",
    "    else:\n",
    "        return x + sum(y)"
   ]
  },
  {
   "cell_type": "code",
   "execution_count": 235,
   "metadata": {},
   "outputs": [
    {
     "name": "stdout",
     "output_type": "stream",
     "text": [
      "y = (3, 4, 5, 10)\n"
     ]
    },
    {
     "data": {
      "text/plain": [
       "27"
      ]
     },
     "execution_count": 235,
     "metadata": {},
     "output_type": "execute_result"
    }
   ],
   "source": [
    "do_sum((3,4,5,10),x = 5)"
   ]
  },
  {
   "cell_type": "markdown",
   "metadata": {},
   "source": [
    "#### You can create a function that has any number of labeled arguments (**kargs)\n",
    "* use ** in front of the parameter \n",
    "* a dictionary will be created for those labels and values\n"
   ]
  },
  {
   "cell_type": "code",
   "execution_count": 239,
   "metadata": {},
   "outputs": [
    {
     "name": "stdout",
     "output_type": "stream",
     "text": [
      "y = {'a': 3, 'b': 4, 'x': 5}\n",
      "<class 'dict'>\n"
     ]
    },
    {
     "data": {
      "text/plain": [
       "12"
      ]
     },
     "execution_count": 239,
     "metadata": {},
     "output_type": "execute_result"
    }
   ],
   "source": [
    "# function arguments - default values\n",
    "def do_sum(**y):\n",
    "    print(\"y =\", y)\n",
    "    print(type(y))\n",
    "    return sum(y.values())\n",
    "\n",
    "do_sum( a = 3, b = 4, x = 5)"
   ]
  },
  {
   "cell_type": "code",
   "execution_count": 241,
   "metadata": {},
   "outputs": [
    {
     "name": "stdout",
     "output_type": "stream",
     "text": [
      "y = {'a': 3, 'b': 4, 'x': 5}\n"
     ]
    },
    {
     "data": {
      "text/plain": [
       "12"
      ]
     },
     "execution_count": 241,
     "metadata": {},
     "output_type": "execute_result"
    }
   ],
   "source": [
    "def do_sum(**y):\n",
    "    print(\"y =\", y)\n",
    "    s = 0\n",
    "    for val in y.values():\n",
    "        s = s + val\n",
    "    return s\n",
    "\n",
    "do_sum( a = 3, b = 4, x = 5)"
   ]
  },
  {
   "cell_type": "code",
   "execution_count": null,
   "metadata": {},
   "outputs": [],
   "source": []
  },
  {
   "cell_type": "code",
   "execution_count": null,
   "metadata": {},
   "outputs": [],
   "source": []
  },
  {
   "cell_type": "markdown",
   "metadata": {
    "tags": []
   },
   "source": [
    "\n",
    "### Function Scope\n",
    "\n",
    "To display variable values in a function use print"
   ]
  },
  {
   "cell_type": "code",
   "execution_count": 243,
   "metadata": {},
   "outputs": [
    {
     "name": "stdout",
     "output_type": "stream",
     "text": [
      "var1 = 2\n"
     ]
    },
    {
     "data": {
      "text/plain": [
       "6"
      ]
     },
     "execution_count": 243,
     "metadata": {},
     "output_type": "execute_result"
    }
   ],
   "source": [
    "def do_product():\n",
    "    var1 = 2\n",
    "    print(\"var1 =\", var1)\n",
    "    var2 = 3\n",
    "    return var1 * var2\n",
    "\n",
    "do_product()"
   ]
  },
  {
   "cell_type": "code",
   "execution_count": 245,
   "metadata": {},
   "outputs": [
    {
     "ename": "NameError",
     "evalue": "name 'var1' is not defined",
     "output_type": "error",
     "traceback": [
      "\u001b[0;31m---------------------------------------------------------------------------\u001b[0m",
      "\u001b[0;31mNameError\u001b[0m                                 Traceback (most recent call last)",
      "Cell \u001b[0;32mIn[245], line 1\u001b[0m\n\u001b[0;32m----> 1\u001b[0m var1\n",
      "\u001b[0;31mNameError\u001b[0m: name 'var1' is not defined"
     ]
    }
   ],
   "source": [
    "var1"
   ]
  },
  {
   "cell_type": "markdown",
   "metadata": {},
   "source": [
    "#### What is defined in a function, is not available outside it"
   ]
  },
  {
   "cell_type": "code",
   "execution_count": 247,
   "metadata": {},
   "outputs": [
    {
     "name": "stdout",
     "output_type": "stream",
     "text": [
      "2\n"
     ]
    },
    {
     "data": {
      "text/plain": [
       "6"
      ]
     },
     "execution_count": 247,
     "metadata": {},
     "output_type": "execute_result"
    }
   ],
   "source": [
    "def do_product():\n",
    "    var1 = 2\n",
    "    print(var1)\n",
    "    var2 = 3\n",
    "    return var1 * var2\n",
    "\n",
    "do_product()"
   ]
  },
  {
   "cell_type": "code",
   "execution_count": 249,
   "metadata": {},
   "outputs": [
    {
     "ename": "NameError",
     "evalue": "name 'var1' is not defined",
     "output_type": "error",
     "traceback": [
      "\u001b[0;31m---------------------------------------------------------------------------\u001b[0m",
      "\u001b[0;31mNameError\u001b[0m                                 Traceback (most recent call last)",
      "Cell \u001b[0;32mIn[249], line 1\u001b[0m\n\u001b[0;32m----> 1\u001b[0m \u001b[38;5;28mprint\u001b[39m(var1)\n",
      "\u001b[0;31mNameError\u001b[0m: name 'var1' is not defined"
     ]
    }
   ],
   "source": [
    "print(var1)"
   ]
  },
  {
   "cell_type": "code",
   "execution_count": 251,
   "metadata": {},
   "outputs": [
    {
     "name": "stdout",
     "output_type": "stream",
     "text": [
      "2\n"
     ]
    },
    {
     "data": {
      "text/plain": [
       "6"
      ]
     },
     "execution_count": 251,
     "metadata": {},
     "output_type": "execute_result"
    }
   ],
   "source": [
    "var1 = do_product()\n",
    "var1"
   ]
  },
  {
   "cell_type": "code",
   "execution_count": 253,
   "metadata": {},
   "outputs": [
    {
     "data": {
      "text/plain": [
       "6"
      ]
     },
     "execution_count": 253,
     "metadata": {},
     "output_type": "execute_result"
    }
   ],
   "source": [
    "var1"
   ]
  },
  {
   "cell_type": "code",
   "execution_count": 255,
   "metadata": {},
   "outputs": [
    {
     "name": "stdout",
     "output_type": "stream",
     "text": [
      "Value of var1: 6\n"
     ]
    }
   ],
   "source": [
    "# string patterns with placeholders\n",
    "print(f'Value of var1: {var1}')"
   ]
  },
  {
   "cell_type": "markdown",
   "metadata": {},
   "source": [
    "Can anyone describe scope in their own words?"
   ]
  },
  {
   "cell_type": "markdown",
   "metadata": {},
   "source": [
    "Let us try to do some shopping"
   ]
  },
  {
   "cell_type": "code",
   "execution_count": 265,
   "metadata": {},
   "outputs": [
    {
     "name": "stdout",
     "output_type": "stream",
     "text": [
      "Orderred an item 1\n",
      "Orderred an item 2\n",
      "Orderred an item 3\n",
      "Orderred an item 4\n",
      "Orderred an item 5\n",
      "Orderred an item 6\n",
      "Orderred an item 7\n",
      "Orderred an item 8\n",
      "Orderred an item 9\n",
      "Orderred an item 10\n",
      "DONE\n"
     ]
    }
   ],
   "source": [
    "budget = 102\n",
    "price = 10\n",
    "item_no = 0\n",
    "# place order\n",
    "while (budget >= price):\n",
    "    item_no = item_no +1\n",
    "    print(\"Orderred an item\", item_no)\n",
    "    budget = budget - price\n",
    "print(\"DONE\")"
   ]
  },
  {
   "cell_type": "code",
   "execution_count": 267,
   "metadata": {},
   "outputs": [
    {
     "data": {
      "text/plain": [
       "2"
      ]
     },
     "execution_count": 267,
     "metadata": {},
     "output_type": "execute_result"
    }
   ],
   "source": [
    "budget"
   ]
  },
  {
   "cell_type": "code",
   "execution_count": 269,
   "metadata": {},
   "outputs": [],
   "source": [
    "#recursive function - function that calls itself\n",
    "\n",
    "def make_order(budget, price):\n",
    "    print(\"The budget is now: \", budget)\n",
    "    if budget>=price:\n",
    "        print(\"Orderred an item with price: \", price)\n",
    "        make_order(budget-price, price)\n",
    "    else:\n",
    "        print(\"DONE\")"
   ]
  },
  {
   "cell_type": "code",
   "execution_count": 273,
   "metadata": {},
   "outputs": [
    {
     "name": "stdout",
     "output_type": "stream",
     "text": [
      "The budget is now:  100\n",
      "Orderred an item with price:  15\n",
      "The budget is now:  85\n",
      "Orderred an item with price:  15\n",
      "The budget is now:  70\n",
      "Orderred an item with price:  15\n",
      "The budget is now:  55\n",
      "Orderred an item with price:  15\n",
      "The budget is now:  40\n",
      "Orderred an item with price:  15\n",
      "The budget is now:  25\n",
      "Orderred an item with price:  15\n",
      "The budget is now:  10\n",
      "DONE\n"
     ]
    }
   ],
   "source": [
    "budget = 100\n",
    "price = 15\n",
    "make_order(budget, price)"
   ]
  },
  {
   "cell_type": "code",
   "execution_count": 279,
   "metadata": {},
   "outputs": [],
   "source": [
    "def make_order(budget, price):\n",
    "    if budget>=price:\n",
    "        make_order(budget-price, price)\n",
    "        print(\"Orderred an item with price: \", price)\n",
    "        print(\"The budget is now: \", budget)\n",
    "    else:\n",
    "        print(\"DONE\")"
   ]
  },
  {
   "cell_type": "code",
   "execution_count": 281,
   "metadata": {},
   "outputs": [
    {
     "name": "stdout",
     "output_type": "stream",
     "text": [
      "DONE\n",
      "Orderred an item with price:  15\n",
      "The budget is now:  25\n",
      "Orderred an item with price:  15\n",
      "The budget is now:  40\n",
      "Orderred an item with price:  15\n",
      "The budget is now:  55\n",
      "Orderred an item with price:  15\n",
      "The budget is now:  70\n",
      "Orderred an item with price:  15\n",
      "The budget is now:  85\n",
      "Orderred an item with price:  15\n",
      "The budget is now:  100\n"
     ]
    }
   ],
   "source": [
    "budget = 100\n",
    "price = 15\n",
    "make_order(budget, price)"
   ]
  },
  {
   "cell_type": "markdown",
   "metadata": {},
   "source": [
    "### <font color = \"red\">Exercise</font>  \n",
    "Write a function that computes the number of each of the 4 nucleotides (\"A\",\"C\",\"G\",\"T\") in a given sequence"
   ]
  },
  {
   "cell_type": "code",
   "execution_count": 286,
   "metadata": {},
   "outputs": [],
   "source": [
    "seq = \"AACGTTA\""
   ]
  },
  {
   "cell_type": "code",
   "execution_count": 288,
   "metadata": {},
   "outputs": [
    {
     "data": {
      "text/plain": [
       "{'A': 3, 'C': 1, 'G': 1, 'T': 2}"
      ]
     },
     "execution_count": 288,
     "metadata": {},
     "output_type": "execute_result"
    }
   ],
   "source": [
    "{\"A\":3, \"C\":1, \"G\":1, \"T\":2}"
   ]
  },
  {
   "cell_type": "code",
   "execution_count": 292,
   "metadata": {},
   "outputs": [
    {
     "data": {
      "text/plain": [
       "{'A': 3, 'C': 1, 'G': 1, 'T': 2}"
      ]
     },
     "execution_count": 292,
     "metadata": {},
     "output_type": "execute_result"
    }
   ],
   "source": [
    "{\"A\":seq.count(\"A\"), \"C\":seq.count(\"C\"), \"G\":seq.count(\"G\"), \"T\":seq.count(\"T\")}"
   ]
  },
  {
   "cell_type": "code",
   "execution_count": 294,
   "metadata": {},
   "outputs": [],
   "source": [
    "def count_nucleotides(seq):\n",
    "    return {\"A\":seq.count(\"A\"), \"C\":seq.count(\"C\"), \"G\":seq.count(\"G\"), \"T\":seq.count(\"T\")}"
   ]
  },
  {
   "cell_type": "code",
   "execution_count": 298,
   "metadata": {},
   "outputs": [
    {
     "data": {
      "text/plain": [
       "{'A': 1, 'C': 1, 'G': 1, 'T': 1}"
      ]
     },
     "execution_count": 298,
     "metadata": {},
     "output_type": "execute_result"
    }
   ],
   "source": [
    "d = count_nucleotides(\"ACGT\")\n",
    "d"
   ]
  },
  {
   "cell_type": "code",
   "execution_count": 302,
   "metadata": {},
   "outputs": [
    {
     "data": {
      "text/plain": [
       "{'A': 3, 'C': 1, 'G': 1, 'T': 2}"
      ]
     },
     "execution_count": 302,
     "metadata": {},
     "output_type": "execute_result"
    }
   ],
   "source": [
    "def count_nucleotides(seq):\n",
    "    result = dict.fromkeys(\"ACGT\", 0)\n",
    "    for nc in seq:\n",
    "        result[nc] = result[nc] + 1\n",
    "    return result\n",
    "\n",
    "count_nucleotides(seq)"
   ]
  },
  {
   "cell_type": "code",
   "execution_count": 306,
   "metadata": {},
   "outputs": [
    {
     "data": {
      "text/plain": [
       "{'A': 1, 'C': 1, 'G': 2, 'T': 1}"
      ]
     },
     "execution_count": 306,
     "metadata": {},
     "output_type": "execute_result"
    }
   ],
   "source": [
    "count_nucleotides(\"ACGGT\")"
   ]
  },
  {
   "cell_type": "code",
   "execution_count": null,
   "metadata": {},
   "outputs": [],
   "source": []
  },
  {
   "cell_type": "markdown",
   "metadata": {},
   "source": [
    "#### Resources"
   ]
  },
  {
   "cell_type": "markdown",
   "metadata": {},
   "source": [
    "https://docs.python.org/3/tutorial/controlflow.html\n",
    "https://web.cs.ucdavis.edu/~koehl/Teaching/ECS15/Lectures/Python_Chapter3.pdf       \n",
    "https://www.geeksforgeeks.org/python-if-else/?ref=lbp         \n",
    "https://www.tutorialspoint.com/python/python_decision_making.htm          \n",
    "https://datacarpentry.org/python-socialsci/03-control-structures/index.html   \n",
    "\n",
    "https://docs.python.org/3/tutorial/controlflow.html#defining-functions       \n",
    "https://www.geeksforgeeks.org/python-functions/         \n",
    "https://www.w3schools.com/python/python_functions.asp        \n",
    "https://www.tutorialspoint.com/python/python_functions.htm       \n",
    "\n"
   ]
  },
  {
   "cell_type": "code",
   "execution_count": null,
   "metadata": {},
   "outputs": [],
   "source": []
  }
 ],
 "metadata": {
  "kernelspec": {
   "display_name": "Python 3 (ipykernel)",
   "language": "python",
   "name": "python3"
  },
  "language_info": {
   "codemirror_mode": {
    "name": "ipython",
    "version": 3
   },
   "file_extension": ".py",
   "mimetype": "text/x-python",
   "name": "python",
   "nbconvert_exporter": "python",
   "pygments_lexer": "ipython3",
   "version": "3.12.2"
  }
 },
 "nbformat": 4,
 "nbformat_minor": 4
}
