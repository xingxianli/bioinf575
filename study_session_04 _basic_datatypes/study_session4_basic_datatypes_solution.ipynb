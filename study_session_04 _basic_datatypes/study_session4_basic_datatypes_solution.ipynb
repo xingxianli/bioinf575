{
 "cells": [
  {
   "cell_type": "markdown",
   "metadata": {},
   "source": [
    "### SOLUTION"
   ]
  },
  {
   "cell_type": "markdown",
   "metadata": {},
   "source": [
    "## Study session 4 - Basic python data types \n",
    "### BIOINF 575"
   ]
  },
  {
   "cell_type": "markdown",
   "metadata": {},
   "source": [
    "\n",
    "Documentation on data types:   \n",
    "https://docs.python.org/3/library/stdtypes.html    \n",
    "Check the precedence of operators in the documentation at the following link:     \n",
    "https://docs.python.org/3/reference/expressions.html#operator-precedence         \n",
    "Python modules - can import without having to install a package      \n",
    "https://docs.python.org/3/py-modindex.html\n"
   ]
  },
  {
   "cell_type": "markdown",
   "metadata": {},
   "source": [
    "Check/display the <b>type of a variable/object</b> with the function <b>type()</b>.   \n",
    "Check/display the <b>methods and attributes for a variable/object</b> with the function <b>dir()</b>.    \n",
    "Check/display the <b>documentation</b> for a function wiutn the function <b>help()</b>.    \n",
    "\n",
    "\n",
    "\n",
    "\n",
    "```python\n",
    "dir(<object>)\n",
    "help([<datatype>.]<function>)\n",
    "type(<object>)\n",
    "```"
   ]
  },
  {
   "cell_type": "markdown",
   "metadata": {},
   "source": [
    "___\n",
    "<font color = \"red\">Exercise</font> <br>\n",
    "\n",
    "Count the number of digits in a large integer number:   \n",
    "e.g.: for the number 784512346 your should return 9"
   ]
  },
  {
   "cell_type": "markdown",
   "metadata": {},
   "source": [
    "##### IN THE HOMEWORK YOU DO NOT NEED TO INCLUDE INTERMEDIATE STEPS      \n",
    "##### JUST BASIC COMMENTS AND ONLY THE FINAL SOLUTION "
   ]
  },
  {
   "cell_type": "code",
   "execution_count": 7,
   "metadata": {},
   "outputs": [],
   "source": [
    "# Solution\n"
   ]
  },
  {
   "cell_type": "code",
   "execution_count": 8,
   "metadata": {},
   "outputs": [],
   "source": [
    "# int objects do not have the length function implemented (look for __len__ when you do dir)\n",
    "# dir(int) # uncoment this line and run the cell if you want to look at the result of dir"
   ]
  },
  {
   "cell_type": "code",
   "execution_count": 9,
   "metadata": {},
   "outputs": [],
   "source": [
    "# string objects have the len function implemented\n",
    "# dir(str) # uncoment this line and run the cell if you want to look at the result of dir"
   ]
  },
  {
   "cell_type": "code",
   "execution_count": 10,
   "metadata": {},
   "outputs": [
    {
     "data": {
      "text/plain": [
       "9"
      ]
     },
     "execution_count": 10,
     "metadata": {},
     "output_type": "execute_result"
    }
   ],
   "source": [
    "# we know str knows how to provide the number of characters\n",
    "# so to get the number of digits for an int - we change it to a string and \n",
    "# count the characters using the len function\n",
    "\n",
    "large_no = 784512346\n",
    "len(str(large_no))"
   ]
  },
  {
   "cell_type": "code",
   "execution_count": null,
   "metadata": {},
   "outputs": [],
   "source": []
  },
  {
   "cell_type": "markdown",
   "metadata": {
    "tags": []
   },
   "source": [
    "___\n",
    "<font color = \"red\">Exercise</font> <br>\n",
    "\n",
    "Peptides are short chains of between two and fifty amino acids, linked by peptide bonds. Chains of fewer than ten or fifteen amino acids are called oligopeptides.\n",
    "https://en.wikipedia.org/wiki/Peptide\n",
    "\n",
    "<img src = \"https://upload.wikimedia.org/wikipedia/commons/1/1d/Basic_Protein_Structure.png\" width = \"500\"/>\n",
    "\n",
    "https://commons.wikimedia.org/wiki/File:Basic_Protein_Structure.png\n",
    "\n",
    "We have a text containing a series of peptides separated by space.\n",
    "\n",
    "```python\n",
    "peptides_sequence = \"MAAGGSGAESAPPTPSMSSLPLAALNVRVRHRLSLFLNVRTQVAADWTGLAEEM NFEYLEIRRLETHPDPTRSLLDDWQGRPGASVGRLLELLAKLGRDDVLVELGPS IEEDCRKYILKQQQEAAEKPLQVDSVDSSIPWMSGITIRDDPLGQMPEHFDAFI CYCPSDIQFVQEMIRQLEQTNYRLKLCVSDRDVLPGTCVWSIASELIEKRCRRM VVVVSDDYLQSKECDFQTKFALSLSPGAHQKRLIPVKYKSMKKEFPSILRFITV CDYTNPCTKSWFWTRLARALSLP\"\n",
    "```\n",
    "Write python code to compute:\n",
    "- The number of Glutamine elements in the third peptide.\n",
    "- The sequence of the third peptide with the first 4 and last 4 characters swapped.\n",
    "- The number of peptides starting with Methionine \n"
   ]
  },
  {
   "cell_type": "markdown",
   "metadata": {},
   "source": [
    "\n",
    "\n"
   ]
  },
  {
   "cell_type": "code",
   "execution_count": 13,
   "metadata": {},
   "outputs": [
    {
     "data": {
      "text/plain": [
       "'MAAGGSGAESAPPTPSMSSLPLAALNVRVRHRLSLFLNVRTQVAADWTGLAEEM NFEYLEIRRLETHPDPTRSLLDDWQGRPGASVGRLLELLAKLGRDDVLVELGPS IEEDCRKYILKQQQEAAEKPLQVDSVDSSIPWMSGITIRDDPLGQMPEHFDAFI CYCPSDIQFVQEMIRQLEQTNYRLKLCVSDRDVLPGTCVWSIASELIEKRCRRM VVVVSDDYLQSKECDFQTKFALSLSPGAHQKRLIPVKYKSMKKEFPSILRFITV CDYTNPCTKSWFWTRLARALSLP'"
      ]
     },
     "execution_count": 13,
     "metadata": {},
     "output_type": "execute_result"
    }
   ],
   "source": [
    "peptides_sequence = \"MAAGGSGAESAPPTPSMSSLPLAALNVRVRHRLSLFLNVRTQVAADWTGLAEEM NFEYLEIRRLETHPDPTRSLLDDWQGRPGASVGRLLELLAKLGRDDVLVELGPS IEEDCRKYILKQQQEAAEKPLQVDSVDSSIPWMSGITIRDDPLGQMPEHFDAFI CYCPSDIQFVQEMIRQLEQTNYRLKLCVSDRDVLPGTCVWSIASELIEKRCRRM VVVVSDDYLQSKECDFQTKFALSLSPGAHQKRLIPVKYKSMKKEFPSILRFITV CDYTNPCTKSWFWTRLARALSLP\"\n",
    "peptides_sequence"
   ]
  },
  {
   "cell_type": "code",
   "execution_count": 14,
   "metadata": {},
   "outputs": [
    {
     "name": "stdout",
     "output_type": "stream",
     "text": [
      "Help on method_descriptor:\n",
      "\n",
      "replace(self, old, new, count=-1, /)\n",
      "    Return a copy with all occurrences of substring old replaced by new.\n",
      "\n",
      "      count\n",
      "        Maximum number of occurrences to replace.\n",
      "        -1 (the default value) means replace all occurrences.\n",
      "\n",
      "    If the optional argument count is given, only the first count occurrences are\n",
      "    replaced.\n",
      "\n"
     ]
    }
   ],
   "source": [
    "# Replace the space with a new line for better display\n",
    "# The result is a new string with the replaced characters in place\n",
    "help(str.replace)\n"
   ]
  },
  {
   "cell_type": "code",
   "execution_count": 15,
   "metadata": {},
   "outputs": [
    {
     "name": "stdout",
     "output_type": "stream",
     "text": [
      "MAAGGSGAESAPPTPSMSSLPLAALNVRVRHRLSLFLNVRTQVAADWTGLAEEM\n",
      "NFEYLEIRRLETHPDPTRSLLDDWQGRPGASVGRLLELLAKLGRDDVLVELGPS\n",
      "IEEDCRKYILKQQQEAAEKPLQVDSVDSSIPWMSGITIRDDPLGQMPEHFDAFI\n",
      "CYCPSDIQFVQEMIRQLEQTNYRLKLCVSDRDVLPGTCVWSIASELIEKRCRRM\n",
      "VVVVSDDYLQSKECDFQTKFALSLSPGAHQKRLIPVKYKSMKKEFPSILRFITV\n",
      "CDYTNPCTKSWFWTRLARALSLP\n"
     ]
    }
   ],
   "source": [
    "peptide_lst = peptides_sequence.replace(\" \", \"\\n\")\n",
    "print(peptide_lst)"
   ]
  },
  {
   "cell_type": "code",
   "execution_count": 16,
   "metadata": {},
   "outputs": [
    {
     "data": {
      "text/plain": [
       "'IEEDCRKYILKQQQEAAEKPLQVDSVDSSIPWMSGITIRDDPLGQMPEHFDAFI'"
      ]
     },
     "execution_count": 16,
     "metadata": {},
     "output_type": "execute_result"
    }
   ],
   "source": [
    "# take the third peptide - it is found after the second new line\n",
    "# find the index of the fist, second and third new line\n",
    "# to make sure we start the next search after the new line index we add 1\n",
    "# the third peptide is between the second and third new line \n",
    "# we use slicing [start:stop] to get the string between those inices\n",
    "# not including the second new line index, so we add 1\n",
    "\n",
    "idx_nl1 = peptide_lst.find(\"\\n\")\n",
    "idx_nl2 = peptide_lst.find(\"\\n\", idx_nl1 + 1)\n",
    "idx_nl3 = peptide_lst.find(\"\\n\", idx_nl2 + 1)\n",
    "peptide3 = peptide_lst[idx_nl2 + 1:idx_nl3]\n",
    "peptide3\n"
   ]
  },
  {
   "cell_type": "code",
   "execution_count": 17,
   "metadata": {},
   "outputs": [
    {
     "data": {
      "text/plain": [
       "274"
      ]
     },
     "execution_count": 17,
     "metadata": {},
     "output_type": "execute_result"
    }
   ],
   "source": [
    "# find the index of the last occurence - we use rfind = right side find\n",
    "idx_r = peptide_lst.rfind(\"\\n\")\n",
    "idx_r"
   ]
  },
  {
   "cell_type": "code",
   "execution_count": 18,
   "metadata": {},
   "outputs": [
    {
     "data": {
      "text/plain": [
       "'CDYTNPCTKSWFWTRLARALSLP'"
      ]
     },
     "execution_count": 18,
     "metadata": {},
     "output_type": "execute_result"
    }
   ],
   "source": [
    "# get the last peptide\n",
    "# slice from the index of the last new line, not included ( +1)\n",
    "# until the end of the string \n",
    "\n",
    "peptide_lst[idx_r + 1:]"
   ]
  },
  {
   "cell_type": "code",
   "execution_count": 19,
   "metadata": {},
   "outputs": [
    {
     "name": "stdout",
     "output_type": "stream",
     "text": [
      "Help on method_descriptor:\n",
      "\n",
      "count(...)\n",
      "    S.count(sub[, start[, end]]) -> int\n",
      "\n",
      "    Return the number of non-overlapping occurrences of substring sub in\n",
      "    string S[start:end].  Optional arguments start and end are\n",
      "    interpreted as in slice notation.\n",
      "\n"
     ]
    }
   ],
   "source": [
    "# Use the count funtion to count the Qs (Glutamine elements)\n",
    "# in sequence of the third peptide\n",
    "\n",
    "help(str.count)"
   ]
  },
  {
   "cell_type": "code",
   "execution_count": 20,
   "metadata": {},
   "outputs": [
    {
     "data": {
      "text/plain": [
       "5"
      ]
     },
     "execution_count": 20,
     "metadata": {},
     "output_type": "execute_result"
    }
   ],
   "source": [
    "peptide3.count(\"Q\")"
   ]
  },
  {
   "cell_type": "code",
   "execution_count": 21,
   "metadata": {},
   "outputs": [
    {
     "data": {
      "text/plain": [
       "'IEEDCRKYILKQQQEAAEKPLQVDSVDSSIPWMSGITIRDDPLGQMPEHFDAFI'"
      ]
     },
     "execution_count": 21,
     "metadata": {},
     "output_type": "execute_result"
    }
   ],
   "source": [
    "peptide3"
   ]
  },
  {
   "cell_type": "markdown",
   "metadata": {},
   "source": [
    "#### * The sequence of the third peptide with the first 4 and last 4 characters swapped"
   ]
  },
  {
   "cell_type": "code",
   "execution_count": 23,
   "metadata": {},
   "outputs": [
    {
     "data": {
      "text/plain": [
       "'IEED'"
      ]
     },
     "execution_count": 23,
     "metadata": {},
     "output_type": "execute_result"
    }
   ],
   "source": [
    "# Get the first 4 characters\n",
    "\n",
    "peptide3[:4]"
   ]
  },
  {
   "cell_type": "code",
   "execution_count": 24,
   "metadata": {},
   "outputs": [
    {
     "data": {
      "text/plain": [
       "'DAFI'"
      ]
     },
     "execution_count": 24,
     "metadata": {},
     "output_type": "execute_result"
    }
   ],
   "source": [
    "# Get the last 4 characters\n",
    "\n",
    "peptide3[-4:]"
   ]
  },
  {
   "cell_type": "code",
   "execution_count": 25,
   "metadata": {},
   "outputs": [
    {
     "data": {
      "text/plain": [
       "'CRKYILKQQQEAAEKPLQVDSVDSSIPWMSGITIRDDPLGQMPEHF'"
      ]
     },
     "execution_count": 25,
     "metadata": {},
     "output_type": "execute_result"
    }
   ],
   "source": [
    "# Get the characters in the middle \n",
    "\n",
    "peptide3[4:-4]"
   ]
  },
  {
   "cell_type": "code",
   "execution_count": 26,
   "metadata": {},
   "outputs": [
    {
     "data": {
      "text/plain": [
       "'DAFICRKYILKQQQEAAEKPLQVDSVDSSIPWMSGITIRDDPLGQMPEHFIEED'"
      ]
     },
     "execution_count": 26,
     "metadata": {},
     "output_type": "execute_result"
    }
   ],
   "source": [
    "# Display the sequence of the third peptide with \n",
    "# the first 4 and last 4 characters swapped.\n",
    "# Putting the pieces to gether swapped\n",
    "\n",
    "peptide3[-4:] + peptide3[4:-4] + peptide3[:4]"
   ]
  },
  {
   "cell_type": "markdown",
   "metadata": {},
   "source": [
    "#### * The number of peptides starting with Methionine"
   ]
  },
  {
   "cell_type": "code",
   "execution_count": 28,
   "metadata": {},
   "outputs": [
    {
     "data": {
      "text/plain": [
       "\u001b[0;31mDocstring:\u001b[0m\n",
       "S.startswith(prefix[, start[, end]]) -> bool\n",
       "\n",
       "Return True if S starts with the specified prefix, False otherwise.\n",
       "With optional start, test S beginning at that position.\n",
       "With optional end, stop comparing S at that position.\n",
       "prefix can also be a tuple of strings to try.\n",
       "\u001b[0;31mType:\u001b[0m      method_descriptor"
      ]
     },
     "metadata": {},
     "output_type": "display_data"
    }
   ],
   "source": [
    "# there is a startswith method/function for strings\n",
    "\n",
    "str.startswith?"
   ]
  },
  {
   "cell_type": "code",
   "execution_count": 29,
   "metadata": {},
   "outputs": [
    {
     "data": {
      "text/plain": [
       "True"
      ]
     },
     "execution_count": 29,
     "metadata": {},
     "output_type": "execute_result"
    }
   ],
   "source": [
    "# this only gives us the first one\n",
    "\n",
    "peptides_sequence.startswith('M')"
   ]
  },
  {
   "cell_type": "code",
   "execution_count": 30,
   "metadata": {},
   "outputs": [
    {
     "data": {
      "text/plain": [
       "1"
      ]
     },
     "execution_count": 30,
     "metadata": {},
     "output_type": "execute_result"
    }
   ],
   "source": [
    "# make it a number\n",
    "\n",
    "int(peptides_sequence.startswith('M'))"
   ]
  },
  {
   "cell_type": "code",
   "execution_count": 31,
   "metadata": {},
   "outputs": [],
   "source": [
    "# get the rest, they need to be space and M since peptides are separated by space in the sequence string"
   ]
  },
  {
   "cell_type": "code",
   "execution_count": 32,
   "metadata": {},
   "outputs": [
    {
     "data": {
      "text/plain": [
       "0"
      ]
     },
     "execution_count": 32,
     "metadata": {},
     "output_type": "execute_result"
    }
   ],
   "source": [
    "peptides_sequence.count(' M') "
   ]
  },
  {
   "cell_type": "code",
   "execution_count": 33,
   "metadata": {},
   "outputs": [
    {
     "data": {
      "text/plain": [
       "1"
      ]
     },
     "execution_count": 33,
     "metadata": {},
     "output_type": "execute_result"
    }
   ],
   "source": [
    "peptides_sequence.count(' M') + int(peptides_sequence[0] == \"M\")"
   ]
  },
  {
   "cell_type": "code",
   "execution_count": null,
   "metadata": {},
   "outputs": [],
   "source": []
  },
  {
   "cell_type": "markdown",
   "metadata": {},
   "source": [
    "___\n",
    "<font color = \"red\">Exercise</font> <br><br>\n",
    "\n",
    "Change the following code to compute the :\n",
    "* Ratio of hydrophobic (A, V, L, I, M, F, W) to hydrophilic residues:\n"
   ]
  },
  {
   "cell_type": "code",
   "execution_count": 35,
   "metadata": {
    "tags": []
   },
   "outputs": [
    {
     "data": {
      "text/plain": [
       "298"
      ]
     },
     "execution_count": 35,
     "metadata": {},
     "output_type": "execute_result"
    }
   ],
   "source": [
    "len(peptides_sequence)"
   ]
  },
  {
   "cell_type": "code",
   "execution_count": 36,
   "metadata": {},
   "outputs": [],
   "source": [
    "##### # Solution:</b>\n",
    "\n",
    "##### Start with the first simple part of the expression and \n",
    "##### then build to the whole expression step by step\n",
    "\n",
    "\n",
    "\n"
   ]
  },
  {
   "cell_type": "code",
   "execution_count": 37,
   "metadata": {},
   "outputs": [
    {
     "data": {
      "text/plain": [
       "0.37542662116040953"
      ]
     },
     "execution_count": 37,
     "metadata": {},
     "output_type": "execute_result"
    }
   ],
   "source": [
    "(peptides_sequence.count('A') + \n",
    " peptides_sequence.count('V') + peptides_sequence.count('L') + \n",
    " peptides_sequence.count('I') + peptides_sequence.count('M') + \n",
    " peptides_sequence.count('F') + peptides_sequence.count('W')) / (len(peptides_sequence) - peptides_sequence.count(' '))"
   ]
  },
  {
   "cell_type": "code",
   "execution_count": null,
   "metadata": {},
   "outputs": [],
   "source": []
  },
  {
   "cell_type": "markdown",
   "metadata": {},
   "source": [
    "___\n",
    "<font color = \"red\">Exercise</font> <br>\n",
    "\n",
    "We have four variables and a range for each:\n",
    "temperature (25 - 28 C), pH (6-8), pressure (29.8 - 30.2 inHg), no_cells (50-100)\n",
    "\n",
    "If 2 of the variables are not in the correct range the cell culture does not grow, write an expression that checks if the cell culture grows and test it with 2 sets of values.\n",
    "\n"
   ]
  },
  {
   "cell_type": "code",
   "execution_count": 39,
   "metadata": {},
   "outputs": [
    {
     "data": {
      "text/plain": [
       "True"
      ]
     },
     "execution_count": 39,
     "metadata": {},
     "output_type": "execute_result"
    }
   ],
   "source": [
    "# Solution\n",
    "\n",
    "temp = 27  \n",
    "pH = 4 \n",
    "pressure = 30\n",
    "no_cells = 70\n",
    "\n",
    "# check if temperature is in the range\n",
    "temp > 25 and temp < 28"
   ]
  },
  {
   "cell_type": "code",
   "execution_count": 40,
   "metadata": {},
   "outputs": [
    {
     "data": {
      "text/plain": [
       "False"
      ]
     },
     "execution_count": 40,
     "metadata": {},
     "output_type": "execute_result"
    }
   ],
   "source": [
    "# check if the pH is in range \n",
    "pH > 6 and pH < 8"
   ]
  },
  {
   "cell_type": "code",
   "execution_count": 41,
   "metadata": {},
   "outputs": [
    {
     "data": {
      "text/plain": [
       "False"
      ]
     },
     "execution_count": 41,
     "metadata": {},
     "output_type": "execute_result"
    }
   ],
   "source": [
    "6 < pH < 8"
   ]
  },
  {
   "cell_type": "code",
   "execution_count": 42,
   "metadata": {},
   "outputs": [
    {
     "data": {
      "text/plain": [
       "2"
      ]
     },
     "execution_count": 42,
     "metadata": {},
     "output_type": "execute_result"
    }
   ],
   "source": [
    "# remember that bool is a subtype of int so Tue is 1. and False is 0 and \n",
    "# we can do basic math with these values\n",
    "\n",
    "True + True"
   ]
  },
  {
   "cell_type": "code",
   "execution_count": 43,
   "metadata": {},
   "outputs": [
    {
     "data": {
      "text/plain": [
       "1"
      ]
     },
     "execution_count": 43,
     "metadata": {},
     "output_type": "execute_result"
    }
   ],
   "source": [
    "# use parentheses because the + operator has precedence over the `and` operator  \n",
    "# so it will compute 28 + pH first if we don't use paratheses \n",
    "# we can use the backslash \\ to mark a line continuation when a line is too long \n",
    "# and we want to write the expression/code structure on multiple lines\n",
    "\n",
    "(temp > 25 and temp < 28) + (pH > 6 and pH < 8)"
   ]
  },
  {
   "cell_type": "code",
   "execution_count": 44,
   "metadata": {},
   "outputs": [
    {
     "data": {
      "text/plain": [
       "1"
      ]
     },
     "execution_count": 44,
     "metadata": {},
     "output_type": "execute_result"
    }
   ],
   "source": [
    "(temp > 25 and temp < 28) + \\\n",
    "(pH > 6 and pH < 8)"
   ]
  },
  {
   "cell_type": "code",
   "execution_count": 45,
   "metadata": {},
   "outputs": [
    {
     "data": {
      "text/plain": [
       "1"
      ]
     },
     "execution_count": 45,
     "metadata": {},
     "output_type": "execute_result"
    }
   ],
   "source": [
    "(25 < temp < 28) + \\\n",
    "(6 < pH < 8)"
   ]
  },
  {
   "cell_type": "code",
   "execution_count": 46,
   "metadata": {},
   "outputs": [
    {
     "data": {
      "text/plain": [
       "3"
      ]
     },
     "execution_count": 46,
     "metadata": {},
     "output_type": "execute_result"
    }
   ],
   "source": [
    "# so if all conditions are true we get a total of 4 \n",
    "# if 2 of them are false we get a total of 2\n",
    "# we can use that to check how many conditions are missed\n",
    "# which is how many variables are out of range\n",
    "\n",
    "temp = 27  \n",
    "pH = 4 \n",
    "pressure = 30\n",
    "no_cells = 70\n",
    "\n",
    "(25 < temp < 28) + (6 < pH < 8) + (50 < no_cells < 100) + \\\n",
    "(29.8 < pressure < 30.2)\n"
   ]
  },
  {
   "cell_type": "code",
   "execution_count": 47,
   "metadata": {},
   "outputs": [
    {
     "data": {
      "text/plain": [
       "True"
      ]
     },
     "execution_count": 47,
     "metadata": {},
     "output_type": "execute_result"
    }
   ],
   "source": [
    "# now check if the cells grow - the number of values in range is > 2\n",
    "# we need another set of parantheses\n",
    "\n",
    "((25 < temp < 28) + (6 < pH < 8) + \\\n",
    " (50 < no_cells < 100) + \\\n",
    " (29.8 < pressure < 30.2)) > 2\n"
   ]
  },
  {
   "cell_type": "code",
   "execution_count": 48,
   "metadata": {},
   "outputs": [
    {
     "data": {
      "text/plain": [
       "True"
      ]
     },
     "execution_count": 48,
     "metadata": {},
     "output_type": "execute_result"
    }
   ],
   "source": [
    "# We did the test with one set of values:\n",
    "\n",
    "temp = 27  \n",
    "pH = 4 \n",
    "pressure = 30\n",
    "no_cells = 70\n",
    "\n",
    "((25 < temp < 28) + (6 < pH < 8) + \\\n",
    " (50 < no_cells < 100) + \\\n",
    " (29.8 < pressure < 30.2)) > 2"
   ]
  },
  {
   "cell_type": "code",
   "execution_count": 49,
   "metadata": {},
   "outputs": [
    {
     "data": {
      "text/plain": [
       "False"
      ]
     },
     "execution_count": 49,
     "metadata": {},
     "output_type": "execute_result"
    }
   ],
   "source": [
    "# We test with a second set of values and \n",
    "# we choose a case that provides a different result:\n",
    "\n",
    "temp = 20  \n",
    "pH = 4 \n",
    "pressure = 30\n",
    "no_cells = 70\n",
    "\n",
    "((25 < temp < 28) + (6 < pH < 8) + \\\n",
    " (50 < no_cells < 100) + \\\n",
    " (29.8 < pressure < 30.2)) > 2"
   ]
  },
  {
   "cell_type": "code",
   "execution_count": 50,
   "metadata": {},
   "outputs": [
    {
     "data": {
      "text/plain": [
       "False"
      ]
     },
     "execution_count": 50,
     "metadata": {},
     "output_type": "execute_result"
    }
   ],
   "source": [
    "# We could also do 4-sum, which gives us how many variables are not in range <2\n",
    "\n",
    "temp = 20  \n",
    "pH = 4 \n",
    "pressure = 30\n",
    "no_cells = 70\n",
    "\n",
    "(4 - ((25 < temp < 28) + (6 < pH < 8) + \\\n",
    " (50 < no_cells < 100) + \\\n",
    " (29.8 < pressure < 30.2))) < 2"
   ]
  },
  {
   "cell_type": "code",
   "execution_count": 51,
   "metadata": {},
   "outputs": [
    {
     "data": {
      "text/plain": [
       "False"
      ]
     },
     "execution_count": 51,
     "metadata": {},
     "output_type": "execute_result"
    }
   ],
   "source": [
    "# We could also do sum of not, which gives us how many variables are not in range <2\n",
    "\n",
    "temp = 20  \n",
    "pH = 4 \n",
    "pressure = 30\n",
    "no_cells = 70\n",
    "\n",
    "((not (25 < temp < 28)) + (not (6 < pH < 8)) + \\\n",
    "(not (50 < no_cells < 100)) + \\\n",
    "(not (29.8 < pressure < 30.2))) < 2"
   ]
  },
  {
   "cell_type": "markdown",
   "metadata": {},
   "source": [
    "___\n",
    "\n",
    "<font color = \"red\">Exercise</font> <br>\n",
    "\n",
    "a) Count the number of sentences in the following text from a news article in Science (science.org):   \n",
    "https://www.science.org/content/article/jumping-gene-may-have-erased-tails-humans-and-other-apes-and-boosted-our-risk-birth-defects\n",
    "\n",
    "```\n",
    "Mammals from mice to monkeys have tails. But humans and our cousins the great apes lack them. Now, researchers may have unearthed a simple genetic change that led to our abbreviated back end: an itinerant piece of DNA that leapt into a new chromosomal home and changed how great apes make a key developmental protein. The finding also suggests the genetic shift came with a less visible and more dangerous effect: a higher risk of birth defects involving the developing spinal cord.\n",
    "```\n"
   ]
  },
  {
   "cell_type": "code",
   "execution_count": 53,
   "metadata": {},
   "outputs": [],
   "source": [
    "# Solution \n",
    "\n"
   ]
  },
  {
   "cell_type": "code",
   "execution_count": 54,
   "metadata": {},
   "outputs": [
    {
     "data": {
      "text/plain": [
       "'Mammals from mice to monkeys have tails. But humans and our cousins the great apes lack them. Now, researchers may have unearthed a simple genetic change that led to our abbreviated back end: an itinerant piece of DNA that leapt into a new chromosomal home and changed how great apes make a key developmental protein. The finding also suggests the genetic shift came with a less visible and more dangerous effect: a higher risk of birth defects involving the developing spinal cord.'"
      ]
     },
     "execution_count": 54,
     "metadata": {},
     "output_type": "execute_result"
    }
   ],
   "source": [
    "# save the text of the news in a variable\n",
    "news_text = \"Mammals from mice to monkeys have tails. But humans and our cousins the great apes lack them. Now, researchers may have unearthed a simple genetic change that led to our abbreviated back end: an itinerant piece of DNA that leapt into a new chromosomal home and changed how great apes make a key developmental protein. The finding also suggests the genetic shift came with a less visible and more dangerous effect: a higher risk of birth defects involving the developing spinal cord.\"\n",
    "news_text"
   ]
  },
  {
   "cell_type": "code",
   "execution_count": 55,
   "metadata": {},
   "outputs": [
    {
     "data": {
      "text/plain": [
       "4"
      ]
     },
     "execution_count": 55,
     "metadata": {},
     "output_type": "execute_result"
    }
   ],
   "source": [
    "# sentences end in . so we count the occurences of \".\" to find out how many sentences we have\n",
    "# we can extend it to count other punctuation marks that end a sentence like !?\n",
    "\n",
    "news_text.count(\".\")\n"
   ]
  },
  {
   "cell_type": "code",
   "execution_count": 56,
   "metadata": {},
   "outputs": [
    {
     "data": {
      "text/plain": [
       "4"
      ]
     },
     "execution_count": 56,
     "metadata": {},
     "output_type": "execute_result"
    }
   ],
   "source": [
    "# a more comprehensive approach would be to also count the !, ? and other characters that end a sentence \n",
    "\n",
    "news_text.count(\".\") + news_text.count(\"!\") + news_text.count(\"?\")\n"
   ]
  },
  {
   "cell_type": "code",
   "execution_count": null,
   "metadata": {},
   "outputs": [],
   "source": []
  },
  {
   "cell_type": "markdown",
   "metadata": {},
   "source": [
    "<font color = \"red\">Exercise</font> <br> \n",
    "\n",
    "b) Compute the averave length of a sentence\n"
   ]
  },
  {
   "cell_type": "code",
   "execution_count": 58,
   "metadata": {},
   "outputs": [],
   "source": [
    "# Solution\n",
    "\n",
    "\n"
   ]
  },
  {
   "cell_type": "code",
   "execution_count": 59,
   "metadata": {},
   "outputs": [
    {
     "data": {
      "text/plain": [
       "20.5"
      ]
     },
     "execution_count": 59,
     "metadata": {},
     "output_type": "execute_result"
    }
   ],
   "source": [
    "# the length of a sentence is the number of words\n",
    "# the average length is the sum of total lengths divided by the number of sentences\n",
    "# the sum of total sentence lengths is the number of words in the whole text\n",
    "# so we need to compute the total number of words, and divide by the number of sentences computed above\n",
    "\n",
    "# words are delimited by space so counting spaces will count the words\n",
    "# we need to add 1 since the last word in the paragraph will not have a space after it\n",
    "# however the last word does not have a space after it so we need to add one to get the number of words\n",
    "\n",
    "(news_text.count(\" \") + 1)/news_text.count(\".\")\n",
    "\n"
   ]
  },
  {
   "cell_type": "code",
   "execution_count": 60,
   "metadata": {},
   "outputs": [
    {
     "data": {
      "text/plain": [
       "20.5"
      ]
     },
     "execution_count": 60,
     "metadata": {},
     "output_type": "execute_result"
    }
   ],
   "source": [
    "# we can use different variables to make the code more readable\n",
    "\n",
    "word_count = news_text.count(\" \") + 1\n",
    "sentence_count = news_text.count(\".\")\n",
    "\n",
    "average_sentence_length = word_count/sentence_count\n",
    "average_sentence_length"
   ]
  },
  {
   "cell_type": "code",
   "execution_count": 61,
   "metadata": {},
   "outputs": [],
   "source": [
    "## We can use the floor division to get a whole number - we don't have half-words"
   ]
  },
  {
   "cell_type": "code",
   "execution_count": 62,
   "metadata": {},
   "outputs": [
    {
     "data": {
      "text/plain": [
       "20"
      ]
     },
     "execution_count": 62,
     "metadata": {},
     "output_type": "execute_result"
    }
   ],
   "source": [
    "average_sentence_length = word_count//sentence_count\n",
    "average_sentence_length"
   ]
  },
  {
   "cell_type": "code",
   "execution_count": null,
   "metadata": {},
   "outputs": [],
   "source": []
  },
  {
   "cell_type": "markdown",
   "metadata": {},
   "source": [
    "Change the following code to count all the occurences of the word \"the\" regardless of case and separator:\n",
    "\n",
    "```python\n",
    "paragraph = \"Mammals from mice to monkeys have tails. But humans and our cousins the great apes lack them. Now, researchers may have unearthed a simple genetic change that led to our abbreviated back end: an itinerant piece of DNA that leapt into a new chromosomal home and changed how great apes make a key developmental protein. The finding also suggests the genetic shift came with a less visible and more dangerous effect: a higher risk of birth defects involving the developing spinal cord.\"\n",
    "\n",
    "print(paragraph.count(\"the\"))\n",
    "```"
   ]
  },
  {
   "cell_type": "code",
   "execution_count": 64,
   "metadata": {},
   "outputs": [
    {
     "name": "stdout",
     "output_type": "stream",
     "text": [
      "5\n"
     ]
    }
   ],
   "source": [
    "##### # Solution:</b>\n",
    "\n",
    "##### Start with the first simple part of the expression and \n",
    "##### then build to the whole expression step by step\n",
    "\n",
    "\n",
    "paragraph = \"Mammals from mice to monkeys have tails. But humans and our cousins the great apes lack them. Now, researchers may have unearthed a simple genetic change that led to our abbreviated back end: an itinerant piece of DNA that leapt into a new chromosomal home and changed how great apes make a key developmental protein. The finding also suggests the genetic shift came with a less visible and more dangerous effect: a higher risk of birth defects involving the developing spinal cord.\"\n",
    "\n",
    "print(paragraph.count(\"the\"))\n"
   ]
  },
  {
   "cell_type": "code",
   "execution_count": 65,
   "metadata": {},
   "outputs": [
    {
     "name": "stdout",
     "output_type": "stream",
     "text": [
      "4\n"
     ]
    }
   ],
   "source": [
    "## use the count and upper function and any spacing an punctuation appropriate to cover all usecases of using \"the\"\n",
    "## with spaces with other punctuation marks or at the beginning of the text\n",
    "## the word \"unearthed\" contains the but should not be counted, it is not the word \"the\" that is counted there.\n",
    "\n",
    "\n",
    "print(paragraph.upper().count(\" THE \") + paragraph.upper().count(\" THE;\") + paragraph.upper().count(\" THE,\") + (paragraph.upper()[:4] == \"THE \"))"
   ]
  },
  {
   "cell_type": "code",
   "execution_count": null,
   "metadata": {},
   "outputs": [],
   "source": []
  },
  {
   "cell_type": "code",
   "execution_count": null,
   "metadata": {},
   "outputs": [],
   "source": []
  },
  {
   "cell_type": "code",
   "execution_count": null,
   "metadata": {},
   "outputs": [],
   "source": []
  },
  {
   "cell_type": "code",
   "execution_count": null,
   "metadata": {},
   "outputs": [],
   "source": []
  },
  {
   "cell_type": "markdown",
   "metadata": {},
   "source": [
    "<font color = \"red\">Exercise</font> <br><br> Advanced PCR Primer Evaluation\n",
    "\n",
    "Create a complex expression to evaluate a potential PCR primer sequence of exactly 20 nucleotides.    \n",
    "The expression should return True if all of the following conditions are met:   \n",
    "\n",
    "* The sequence is valid (contains only A, T, C, G)\n",
    "* GC content is between 40% and 60% (inclusive)\n",
    "* It ends with a G or C (GC clamp)\n",
    "* It doesn't have more than 3 consecutive identical nucleotides\n",
    "* The last 5 nucleotides have at least 2 G or C bases\n",
    "\n",
    "Test your expression with:\n",
    "* \"ATCGATCGATCGATCGATCG\"\n",
    "* \"GCGCTATAGCGCTATAGCGC\""
   ]
  },
  {
   "cell_type": "code",
   "execution_count": 67,
   "metadata": {},
   "outputs": [],
   "source": [
    "##### # Solution:</b>\n",
    "\n",
    "##### Start with the first simple part of the expression and \n",
    "##### then build to the whole expression step by step\n",
    "\n",
    "\n",
    "seq1 = \"ATCGATCGATCGATCGATCG\"\n",
    "seq2 = \"GCGCTATAGCGCTATAGCGC\"\n"
   ]
  },
  {
   "cell_type": "markdown",
   "metadata": {},
   "source": [
    "#### * The sequence is valid (contains only A, T, C, G)"
   ]
  },
  {
   "cell_type": "code",
   "execution_count": 69,
   "metadata": {},
   "outputs": [
    {
     "data": {
      "text/plain": [
       "5"
      ]
     },
     "execution_count": 69,
     "metadata": {},
     "output_type": "execute_result"
    }
   ],
   "source": [
    "# summing up the number of A,C,G and Ts would be equal to the sequeence length \n",
    "# if we only have those nucleotides in the sequence\n",
    "\n",
    "# to count the number of occurences for a nuclotide use the string count method\n",
    "seq = seq1\n",
    "seq.count(\"A\")"
   ]
  },
  {
   "cell_type": "code",
   "execution_count": 70,
   "metadata": {},
   "outputs": [
    {
     "data": {
      "text/plain": [
       "5"
      ]
     },
     "execution_count": 70,
     "metadata": {},
     "output_type": "execute_result"
    }
   ],
   "source": [
    "# case insensitive count\n",
    "\n",
    "seq.upper().count(\"A\")"
   ]
  },
  {
   "cell_type": "code",
   "execution_count": 71,
   "metadata": {},
   "outputs": [
    {
     "data": {
      "text/plain": [
       "True"
      ]
     },
     "execution_count": 71,
     "metadata": {},
     "output_type": "execute_result"
    }
   ],
   "source": [
    "condition1 = ((seq.upper().count(\"A\") + seq.upper().count(\"T\") + seq.upper().count(\"C\") + seq.upper().count(\"G\")) == len(seq))\n",
    "condition1"
   ]
  },
  {
   "cell_type": "code",
   "execution_count": null,
   "metadata": {},
   "outputs": [],
   "source": []
  },
  {
   "cell_type": "code",
   "execution_count": null,
   "metadata": {},
   "outputs": [],
   "source": []
  },
  {
   "cell_type": "code",
   "execution_count": null,
   "metadata": {},
   "outputs": [],
   "source": []
  },
  {
   "cell_type": "markdown",
   "metadata": {},
   "source": [
    "#### * GC content is between 40% and 60% (inclusive)\n"
   ]
  },
  {
   "cell_type": "code",
   "execution_count": 73,
   "metadata": {},
   "outputs": [],
   "source": [
    "# to count the GC content we count the C and G nuclotides and divide by the length of the sequence"
   ]
  },
  {
   "cell_type": "code",
   "execution_count": 74,
   "metadata": {},
   "outputs": [
    {
     "data": {
      "text/plain": [
       "0.5"
      ]
     },
     "execution_count": 74,
     "metadata": {},
     "output_type": "execute_result"
    }
   ],
   "source": [
    "GC_content = (seq.upper().count(\"G\") + seq.upper().count(\"C\"))/len(seq)\n",
    "GC_content"
   ]
  },
  {
   "cell_type": "code",
   "execution_count": 75,
   "metadata": {},
   "outputs": [
    {
     "data": {
      "text/plain": [
       "True"
      ]
     },
     "execution_count": 75,
     "metadata": {},
     "output_type": "execute_result"
    }
   ],
   "source": [
    "# check the range\n",
    "\n",
    "condition2 = (0.4 <= GC_content <= 0.6)\n",
    "condition2"
   ]
  },
  {
   "cell_type": "code",
   "execution_count": null,
   "metadata": {},
   "outputs": [],
   "source": []
  },
  {
   "cell_type": "markdown",
   "metadata": {},
   "source": [
    "#### * It ends with a G or C (GC clamp)"
   ]
  },
  {
   "cell_type": "code",
   "execution_count": 77,
   "metadata": {},
   "outputs": [
    {
     "name": "stdout",
     "output_type": "stream",
     "text": [
      "ATCGATCGATCGATCGATCG\n",
      "G\n"
     ]
    }
   ],
   "source": [
    "# check the last nucleotide\n",
    "# negative indexing starts from the end\n",
    "\n",
    "print(seq)\n",
    "print(seq[-1])\n"
   ]
  },
  {
   "cell_type": "code",
   "execution_count": 78,
   "metadata": {},
   "outputs": [
    {
     "data": {
      "text/plain": [
       "False"
      ]
     },
     "execution_count": 78,
     "metadata": {},
     "output_type": "execute_result"
    }
   ],
   "source": [
    "# check for C\n",
    "seq[-1] == \"C\""
   ]
  },
  {
   "cell_type": "code",
   "execution_count": 79,
   "metadata": {},
   "outputs": [
    {
     "data": {
      "text/plain": [
       "True"
      ]
     },
     "execution_count": 79,
     "metadata": {},
     "output_type": "execute_result"
    }
   ],
   "source": [
    "# check for G - case insensitive check\n",
    "\n",
    "condition3 = ((seq[-1].upper() == \"C\") or (seq[-1].upper() == \"G\"))\n",
    "condition3"
   ]
  },
  {
   "cell_type": "code",
   "execution_count": null,
   "metadata": {},
   "outputs": [],
   "source": []
  },
  {
   "cell_type": "code",
   "execution_count": null,
   "metadata": {},
   "outputs": [],
   "source": []
  },
  {
   "cell_type": "markdown",
   "metadata": {},
   "source": [
    "#### * It doesn't have more than 3 consecutive identical nucleotides"
   ]
  },
  {
   "cell_type": "code",
   "execution_count": 81,
   "metadata": {},
   "outputs": [],
   "source": [
    "# we check to see if it contains 4 of any of the 4 nucleotides, the count will give us 0 or more if it does"
   ]
  },
  {
   "cell_type": "code",
   "execution_count": 82,
   "metadata": {},
   "outputs": [
    {
     "data": {
      "text/plain": [
       "5"
      ]
     },
     "execution_count": 82,
     "metadata": {},
     "output_type": "execute_result"
    }
   ],
   "source": [
    "seq.upper().count(\"TCG\")"
   ]
  },
  {
   "cell_type": "code",
   "execution_count": 83,
   "metadata": {},
   "outputs": [
    {
     "data": {
      "text/plain": [
       "0"
      ]
     },
     "execution_count": 83,
     "metadata": {},
     "output_type": "execute_result"
    }
   ],
   "source": [
    "seq.count(\"AA\")"
   ]
  },
  {
   "cell_type": "code",
   "execution_count": 84,
   "metadata": {},
   "outputs": [
    {
     "data": {
      "text/plain": [
       "0"
      ]
     },
     "execution_count": 84,
     "metadata": {},
     "output_type": "execute_result"
    }
   ],
   "source": [
    "# More than 3 consecutive identical As\n",
    "\n",
    "seq.upper().count(\"AAAA\")"
   ]
  },
  {
   "cell_type": "code",
   "execution_count": 85,
   "metadata": {},
   "outputs": [
    {
     "data": {
      "text/plain": [
       "0"
      ]
     },
     "execution_count": 85,
     "metadata": {},
     "output_type": "execute_result"
    }
   ],
   "source": [
    "# do the same for all 4 nucleotides\n",
    "\n",
    "seq.upper().count(\"AAAA\") + seq.upper().count(\"TTTT\") + seq.upper().count(\"CCCC\") + seq.upper().count(\"GGGG\")"
   ]
  },
  {
   "cell_type": "code",
   "execution_count": 86,
   "metadata": {},
   "outputs": [],
   "source": [
    "# make it a True/False value"
   ]
  },
  {
   "cell_type": "code",
   "execution_count": 87,
   "metadata": {},
   "outputs": [
    {
     "data": {
      "text/plain": [
       "True"
      ]
     },
     "execution_count": 87,
     "metadata": {},
     "output_type": "execute_result"
    }
   ],
   "source": [
    "condition4 = not bool(seq.upper().count(\"AAAA\") + seq.upper().count(\"TTTT\") + seq.upper().count(\"CCCC\") + seq.upper().count(\"GGGG\"))\n",
    "condition4"
   ]
  },
  {
   "cell_type": "code",
   "execution_count": null,
   "metadata": {},
   "outputs": [],
   "source": []
  },
  {
   "cell_type": "markdown",
   "metadata": {},
   "source": [
    "#### * The last 5 nucleotides have at least 2 G or C bases"
   ]
  },
  {
   "cell_type": "code",
   "execution_count": 89,
   "metadata": {},
   "outputs": [
    {
     "data": {
      "text/plain": [
       "'ATCGATCGATCGATCGATCG'"
      ]
     },
     "execution_count": 89,
     "metadata": {},
     "output_type": "execute_result"
    }
   ],
   "source": [
    "# slicing to take the last 5 nucleotides\n",
    "\n",
    "seq"
   ]
  },
  {
   "cell_type": "code",
   "execution_count": 90,
   "metadata": {},
   "outputs": [
    {
     "data": {
      "text/plain": [
       "'GATCG'"
      ]
     },
     "execution_count": 90,
     "metadata": {},
     "output_type": "execute_result"
    }
   ],
   "source": [
    "seq[-5:] "
   ]
  },
  {
   "cell_type": "code",
   "execution_count": 91,
   "metadata": {},
   "outputs": [
    {
     "data": {
      "text/plain": [
       "1"
      ]
     },
     "execution_count": 91,
     "metadata": {},
     "output_type": "execute_result"
    }
   ],
   "source": [
    "# count Cs\n",
    "seq[-5:].upper().count(\"C\")"
   ]
  },
  {
   "cell_type": "code",
   "execution_count": 92,
   "metadata": {},
   "outputs": [
    {
     "data": {
      "text/plain": [
       "True"
      ]
     },
     "execution_count": 92,
     "metadata": {},
     "output_type": "execute_result"
    }
   ],
   "source": [
    "# check if at least 2 Cs or Gs\n",
    "\n",
    "condition5 = (seq[-5:].upper().count(\"C\") >=2 or seq[-5:].upper().count(\"G\") >= 2)\n",
    "condition5"
   ]
  },
  {
   "cell_type": "code",
   "execution_count": 93,
   "metadata": {},
   "outputs": [],
   "source": [
    "#### * Putting it all together\n",
    "# using a variable to store the result of upper since we call it a lot\n",
    "\n"
   ]
  },
  {
   "cell_type": "code",
   "execution_count": 94,
   "metadata": {},
   "outputs": [
    {
     "data": {
      "text/plain": [
       "False"
      ]
     },
     "execution_count": 94,
     "metadata": {},
     "output_type": "execute_result"
    }
   ],
   "source": [
    "# writing all the code in a single cell\n",
    "\n",
    "seqU = seq.upper()\n",
    "GC_content = (seqU.count(\"G\") + seqU.count(\"C\"))/len(seq)\n",
    "\n",
    "condition1 = ((seqU.count(\"A\") + seqU.count(\"T\") + seqU.count(\"C\") + seqU.count(\"G\")) == len(seq))\n",
    "condition2 = (0.4 <= GC_content <= 0.6)\n",
    "condition3 = ((seqU[-1] == \"C\") or (seqU[-1] == \"G\"))\n",
    "condition4 = bool(seqU.count(\"AAAA\") + seqU.count(\"TTTT\") + seqU.count(\"CCCC\") + seqU.count(\"GGGG\"))\n",
    "condition5 = ((seqU[-5:].count(\"C\") >=2) or (seqU[-5:].count(\"G\") >= 2))\n",
    "\n",
    "result = (condition1 and condition2 and condition3 and condition4 and condition5)\n",
    "result"
   ]
  },
  {
   "cell_type": "code",
   "execution_count": 95,
   "metadata": {},
   "outputs": [
    {
     "name": "stdout",
     "output_type": "stream",
     "text": [
      "ATCGATCGATCGATCGATCG\n"
     ]
    },
    {
     "data": {
      "text/plain": [
       "True"
      ]
     },
     "execution_count": 95,
     "metadata": {},
     "output_type": "execute_result"
    }
   ],
   "source": [
    "# testing for sequence1\n",
    "\n",
    "print(seq1)\n",
    "seq = seq1\n",
    "\n",
    "seqU = seq.upper()\n",
    "GC_content = (seqU.count(\"G\") + seqU.count(\"C\"))/len(seq)\n",
    "\n",
    "condition1 = ((seqU.count(\"A\") + seqU.count(\"T\") + seqU.count(\"C\") + seqU.count(\"G\")) == len(seq))\n",
    "condition2 = (0.4 <= GC_content <= 0.6)\n",
    "condition3 = ((seqU[-1] == \"C\") or (seqU[-1] == \"G\"))\n",
    "condition4 = not bool(seqU.count(\"AAAA\") + seqU.count(\"TTTT\") + seqU.count(\"CCCC\") + seqU.count(\"GGGG\"))\n",
    "condition5 = ((seqU[-5:].count(\"C\") + seqU[-5:].count(\"G\")) >= 2)\n",
    "\n",
    "result = (condition1 and condition2 and condition3 and condition4 and condition5)\n",
    "result"
   ]
  },
  {
   "cell_type": "code",
   "execution_count": 96,
   "metadata": {},
   "outputs": [
    {
     "name": "stdout",
     "output_type": "stream",
     "text": [
      "GCGCTATAGCGCTATAGCGC\n"
     ]
    },
    {
     "data": {
      "text/plain": [
       "True"
      ]
     },
     "execution_count": 96,
     "metadata": {},
     "output_type": "execute_result"
    }
   ],
   "source": [
    "# testing for sequence2 only seq = seq1 changes to seq = seq2 the rest stays the same\n",
    "\n",
    "print(seq2)\n",
    "seq = seq2\n",
    "\n",
    "seqU = seq.upper()\n",
    "GC_content = (seqU.count(\"G\") + seqU.count(\"C\"))/len(seq)\n",
    "\n",
    "condition1 = ((seqU.count(\"A\") + seqU.count(\"T\") + seqU.count(\"C\") + seqU.count(\"G\")) == len(seq))\n",
    "condition2 = (0.4 <= GC_content <= 0.6)\n",
    "condition3 = ((seqU[-1] == \"C\") or (seqU[-1] == \"G\"))\n",
    "condition4 = not bool(seqU.count(\"AAAA\") + seqU.count(\"TTTT\") + seqU.count(\"CCCC\") + seqU.count(\"GGGG\"))\n",
    "condition5 = ((seqU[-5:].count(\"C\") + seqU[-5:].count(\"G\")) >= 2)\n",
    "\n",
    "result = (condition1 and condition2 and condition3 and condition4 and condition5)\n",
    "result"
   ]
  },
  {
   "cell_type": "code",
   "execution_count": 97,
   "metadata": {},
   "outputs": [
    {
     "name": "stdout",
     "output_type": "stream",
     "text": [
      "GCGCTATAGCGCTATAGCGA\n"
     ]
    },
    {
     "data": {
      "text/plain": [
       "False"
      ]
     },
     "execution_count": 97,
     "metadata": {},
     "output_type": "execute_result"
    }
   ],
   "source": [
    "# testing for sequence3 only seq = seq1 changes to seq = seq3 the rest stays the same\n",
    "# it does not end in C or G so result should be False\n",
    "seq3 = \"GCGCTATAGCGCTATAGCGA\"\n",
    "\n",
    "print(seq3)\n",
    "seq = seq3\n",
    "\n",
    "seqU = seq.upper()\n",
    "GC_content = (seqU.count(\"G\") + seqU.count(\"C\"))/len(seq)\n",
    "\n",
    "condition1 = ((seqU.count(\"A\") + seqU.count(\"T\") + seqU.count(\"C\") + seqU.count(\"G\")) == len(seq))\n",
    "condition2 = (0.4 <= GC_content <= 0.6)\n",
    "condition3 = ((seqU[-1] == \"C\") or (seqU[-1] == \"G\"))\n",
    "condition4 = not bool(seqU.count(\"AAAA\") + seqU.count(\"TTTT\") + seqU.count(\"CCCC\") + seqU.count(\"GGGG\"))\n",
    "condition5 = ((seqU[-5:].count(\"C\") + seqU[-5:].count(\"G\")) >= 2)\n",
    "\n",
    "result = (condition1 and condition2 and condition3 and condition4 and condition5)\n",
    "result"
   ]
  },
  {
   "cell_type": "code",
   "execution_count": null,
   "metadata": {},
   "outputs": [],
   "source": []
  },
  {
   "cell_type": "code",
   "execution_count": null,
   "metadata": {},
   "outputs": [],
   "source": []
  }
 ],
 "metadata": {
  "kernelspec": {
   "display_name": "Python 3 (ipykernel)",
   "language": "python",
   "name": "python3"
  },
  "language_info": {
   "codemirror_mode": {
    "name": "ipython",
    "version": 3
   },
   "file_extension": ".py",
   "mimetype": "text/x-python",
   "name": "python",
   "nbconvert_exporter": "python",
   "pygments_lexer": "ipython3",
   "version": "3.12.2"
  }
 },
 "nbformat": 4,
 "nbformat_minor": 4
}
