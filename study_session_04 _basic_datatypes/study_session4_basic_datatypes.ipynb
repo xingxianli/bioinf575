{
 "cells": [
  {
   "cell_type": "markdown",
   "metadata": {},
   "source": [
    "## Study session 4 - Basic python data types \n",
    "### BIOINF 575"
   ]
  },
  {
   "cell_type": "markdown",
   "metadata": {},
   "source": [
    "\n",
    "Documentation on data types:   \n",
    "https://docs.python.org/3/library/stdtypes.html    \n",
    "Check the precedence of operators in the documentation at the following link:     \n",
    "https://docs.python.org/3/reference/expressions.html#operator-precedence         \n",
    "Python modules - can import without having to install a package      \n",
    "https://docs.python.org/3/py-modindex.html\n"
   ]
  },
  {
   "cell_type": "markdown",
   "metadata": {},
   "source": [
    "Check/display the <b>type of a variable/object</b> with the function <b>type()</b>.   \n",
    "Check/display the <b>methods and attributes for a variable/object</b> with the function <b>dir()</b>.    \n",
    "Check/display the <b>documentation</b> for a function wiutn the function <b>help()</b>.    \n",
    "\n",
    "\n",
    "\n",
    "\n",
    "```python\n",
    "dir(<object>)\n",
    "help([<datatype>.]<function>)\n",
    "type(<object>)\n",
    "```"
   ]
  },
  {
   "cell_type": "markdown",
   "metadata": {},
   "source": [
    "___\n",
    "<font color = \"red\">Exercise</font> <br>\n",
    "\n",
    "Count the number of digits in a large integer number:   \n",
    "e.g.: for the number 784512346 your code should return 9"
   ]
  },
  {
   "cell_type": "markdown",
   "metadata": {},
   "source": [
    "##### IN THE HOMEWORK YOU DO NOT NEED TO INCLUDE INTERMEDIATE STEPS      \n",
    "##### JUST BASIC COMMENTS AND ONLY THE FINAL SOLUTION "
   ]
  },
  {
   "cell_type": "code",
   "execution_count": null,
   "metadata": {},
   "outputs": [],
   "source": [
    "# Solution\n"
   ]
  },
  {
   "cell_type": "code",
   "execution_count": null,
   "metadata": {},
   "outputs": [],
   "source": []
  },
  {
   "cell_type": "code",
   "execution_count": null,
   "metadata": {},
   "outputs": [],
   "source": []
  },
  {
   "cell_type": "code",
   "execution_count": null,
   "metadata": {},
   "outputs": [],
   "source": []
  },
  {
   "cell_type": "markdown",
   "metadata": {},
   "source": [
    "\n",
    "\n"
   ]
  },
  {
   "cell_type": "markdown",
   "metadata": {
    "tags": []
   },
   "source": [
    "___\n",
    "<font color = \"red\">Exercise</font> <br>\n",
    "\n",
    "Peptides are short chains of between two and fifty amino acids, linked by peptide bonds. Chains of fewer than ten or fifteen amino acids are called oligopeptides.\n",
    "https://en.wikipedia.org/wiki/Peptide\n",
    "\n",
    "<img src = \"https://upload.wikimedia.org/wikipedia/commons/1/1d/Basic_Protein_Structure.png\" width = \"500\"/>\n",
    "\n",
    "https://commons.wikimedia.org/wiki/File:Basic_Protein_Structure.png\n",
    "\n",
    "We have a text containing a series of peptides separated by space.\n",
    "\n",
    "```python\n",
    "peptides_sequence = \"MAAGGSGAESAPPTPSMSSLPLAALNVRVRHRLSLFLNVRTQVAADWTGLAEEM NFEYLEIRRLETHPDPTRSLLDDWQGRPGASVGRLLELLAKLGRDDVLVELGPS IEEDCRKYILKQQQEAAEKPLQVDSVDSSIPWMSGITIRDDPLGQMPEHFDAFI CYCPSDIQFVQEMIRQLEQTNYRLKLCVSDRDVLPGTCVWSIASELIEKRCRRM VVVVSDDYLQSKECDFQTKFALSLSPGAHQKRLIPVKYKSMKKEFPSILRFITV CDYTNPCTKSWFWTRLARALSLP\"\n",
    "```\n",
    "Write python code to compute:\n",
    "- The number of Glutamine elements in the third peptide.\n",
    "- The sequence of the third peptide with the first 4 and last 4 characters swapped.\n",
    "- The number of peptides starting with Methionine \n"
   ]
  },
  {
   "cell_type": "code",
   "execution_count": null,
   "metadata": {},
   "outputs": [],
   "source": [
    "peptides_sequence = \"MAAGGSGAESAPPTPSMSSLPLAALNVRVRHRLSLFLNVRTQVAADWTGLAEEM NFEYLEIRRLETHPDPTRSLLDDWQGRPGASVGRLLELLAKLGRDDVLVELGPS IEEDCRKYILKQQQEAAEKPLQVDSVDSSIPWMSGITIRDDPLGQMPEHFDAFI CYCPSDIQFVQEMIRQLEQTNYRLKLCVSDRDVLPGTCVWSIASELIEKRCRRM VVVVSDDYLQSKECDFQTKFALSLSPGAHQKRLIPVKYKSMKKEFPSILRFITV CDYTNPCTKSWFWTRLARALSLP\"\n",
    "peptides_sequence"
   ]
  },
  {
   "cell_type": "code",
   "execution_count": null,
   "metadata": {},
   "outputs": [],
   "source": [
    "# Solution\n"
   ]
  },
  {
   "cell_type": "code",
   "execution_count": null,
   "metadata": {},
   "outputs": [],
   "source": []
  },
  {
   "cell_type": "code",
   "execution_count": null,
   "metadata": {},
   "outputs": [],
   "source": []
  },
  {
   "cell_type": "markdown",
   "metadata": {},
   "source": [
    "___\n",
    "<font color = \"red\">Exercise</font> <br><br>\n",
    "\n",
    "Change the following code to compute the :\n",
    "* Ratio of hydrophobic (A, V, L, I, M, F, W) to hydrophilic residues:\n"
   ]
  },
  {
   "cell_type": "code",
   "execution_count": null,
   "metadata": {
    "tags": []
   },
   "outputs": [],
   "source": [
    "len(peptides_sequence)"
   ]
  },
  {
   "cell_type": "code",
   "execution_count": null,
   "metadata": {},
   "outputs": [],
   "source": [
    "##### # Solution:</b>\n",
    "\n",
    "##### Start with the first simple part of the expression and \n",
    "##### then build to the whole expression step by step\n",
    "\n",
    "\n",
    "\n"
   ]
  },
  {
   "cell_type": "code",
   "execution_count": null,
   "metadata": {},
   "outputs": [],
   "source": [
    "# Use the count to count the occurence of an amino acid \n",
    "# and the occurence of space and len to get the total amino acid count"
   ]
  },
  {
   "cell_type": "code",
   "execution_count": null,
   "metadata": {},
   "outputs": [],
   "source": []
  },
  {
   "cell_type": "markdown",
   "metadata": {},
   "source": [
    "___\n",
    "<font color = \"red\">Exercise</font> <br>\n",
    "\n",
    "We have four variables and a range for each:\n",
    "temperature (25 - 28 C), pH (6-8), pressure (29.8 - 30.2 inHg), no_cells (50-100)\n",
    "\n",
    "If 2 of the variables are not in the correct range the cell culture does not grow. \n",
    "\n",
    "Write an expression that gives a True/False answer and checks if the cell culture grows. \n",
    "Test it with 2 sets of values, one where the answer is True and one where the answer is False.\n",
    "\n",
    "\n"
   ]
  },
  {
   "cell_type": "code",
   "execution_count": null,
   "metadata": {},
   "outputs": [],
   "source": [
    "# Solution\n",
    "\n"
   ]
  },
  {
   "cell_type": "code",
   "execution_count": null,
   "metadata": {},
   "outputs": [],
   "source": []
  },
  {
   "cell_type": "code",
   "execution_count": null,
   "metadata": {},
   "outputs": [],
   "source": []
  },
  {
   "cell_type": "code",
   "execution_count": null,
   "metadata": {},
   "outputs": [],
   "source": []
  },
  {
   "cell_type": "markdown",
   "metadata": {},
   "source": [
    "___\n",
    "\n",
    "<font color = \"red\">Exercise</font> <br>\n",
    "\n",
    "a) Count the number of sentences in the following text from a news article in Science (science.org):   \n",
    "https://www.science.org/content/article/jumping-gene-may-have-erased-tails-humans-and-other-apes-and-boosted-our-risk-birth-defects\n",
    "\n",
    "```\n",
    "Mammals from mice to monkeys have tails. But humans and our cousins the great apes lack them. Now, researchers may have unearthed a simple genetic change that led to our abbreviated back end: an itinerant piece of DNA that leapt into a new chromosomal home and changed how great apes make a key developmental protein. The finding also suggests the genetic shift came with a less visible and more dangerous effect: a higher risk of birth defects involving the developing spinal cord.\n",
    "```\n"
   ]
  },
  {
   "cell_type": "code",
   "execution_count": null,
   "metadata": {},
   "outputs": [],
   "source": [
    "# Solution \n",
    "\n"
   ]
  },
  {
   "cell_type": "code",
   "execution_count": null,
   "metadata": {},
   "outputs": [],
   "source": []
  },
  {
   "cell_type": "code",
   "execution_count": null,
   "metadata": {},
   "outputs": [],
   "source": []
  },
  {
   "cell_type": "code",
   "execution_count": null,
   "metadata": {},
   "outputs": [],
   "source": []
  },
  {
   "cell_type": "markdown",
   "metadata": {},
   "source": [
    "<font color = \"red\">Exercise</font> <br> \n",
    "\n",
    "b) Compute the average length of a sentence\n"
   ]
  },
  {
   "cell_type": "code",
   "execution_count": null,
   "metadata": {},
   "outputs": [],
   "source": [
    "# Solution\n",
    "\n",
    "\n"
   ]
  },
  {
   "cell_type": "code",
   "execution_count": null,
   "metadata": {},
   "outputs": [],
   "source": []
  },
  {
   "cell_type": "code",
   "execution_count": null,
   "metadata": {},
   "outputs": [],
   "source": []
  },
  {
   "cell_type": "code",
   "execution_count": null,
   "metadata": {},
   "outputs": [],
   "source": []
  },
  {
   "cell_type": "markdown",
   "metadata": {},
   "source": [
    "___\n",
    "<font color = \"red\">Exercise</font> <br><br>\n",
    "\n",
    "Change the following code to count all the occurences of the word \"the\" regardless of case and separator:\n",
    "\n",
    "```python\n",
    "paragraph = \"Mammals from mice to monkeys have tails. But humans and our cousins the great apes lack them. Now, researchers may have unearthed a simple genetic change that led to our abbreviated back end: an itinerant piece of DNA that leapt into a new chromosomal home and changed how great apes make a key developmental protein. The finding also suggests the genetic shift came with a less visible and more dangerous effect: a higher risk of birth defects involving the developing spinal cord.\"\n",
    "\n",
    "print(paragraph.count(\"the\"))\n",
    "\n",
    "\n",
    "```\n"
   ]
  },
  {
   "cell_type": "code",
   "execution_count": null,
   "metadata": {},
   "outputs": [],
   "source": [
    "##### # Solution:</b>\n",
    "\n",
    "##### Start with the first simple part of the expression and \n",
    "##### then build to the whole expression step by step\n",
    "\n",
    "\n",
    "\n"
   ]
  },
  {
   "cell_type": "code",
   "execution_count": null,
   "metadata": {},
   "outputs": [],
   "source": []
  },
  {
   "cell_type": "code",
   "execution_count": null,
   "metadata": {},
   "outputs": [],
   "source": []
  },
  {
   "cell_type": "markdown",
   "metadata": {},
   "source": [
    "<font color = \"red\">Exercise</font> <br><br> Advanced PCR Primer Evaluation\n",
    "\n",
    "Create a complex expression to evaluate a potential PCR primer sequence of exactly 20 nucleotides. The expression should return True if all of the following conditions are met:\n",
    "* The sequence is valid (contains only A, T, C, G)\n",
    "* GC content is between 40% and 60% (inclusive)\n",
    "* It ends with a G or C (GC clamp)\n",
    "* It doesn't have more than 3 consecutive identical nucleotides\n",
    "* The last 5 nucleotides have at least 2 G or C bases\n",
    "\n",
    "Test your expression with:\n",
    "* \"ATCGATCGATCGATCGATCG\"\n",
    "* \"GCGCTATAGCGCTATAGCGC\""
   ]
  },
  {
   "cell_type": "code",
   "execution_count": null,
   "metadata": {},
   "outputs": [],
   "source": [
    "##### # Solution:</b>\n",
    "\n",
    "##### Start with the first simple part of the expression and \n",
    "##### then build to the whole expression step by step\n",
    "\n",
    "\n",
    "\n"
   ]
  },
  {
   "cell_type": "code",
   "execution_count": null,
   "metadata": {},
   "outputs": [],
   "source": [
    "\n"
   ]
  }
 ],
 "metadata": {
  "kernelspec": {
   "display_name": "Python 3 (ipykernel)",
   "language": "python",
   "name": "python3"
  },
  "language_info": {
   "codemirror_mode": {
    "name": "ipython",
    "version": 3
   },
   "file_extension": ".py",
   "mimetype": "text/x-python",
   "name": "python",
   "nbconvert_exporter": "python",
   "pygments_lexer": "ipython3",
   "version": "3.12.2"
  }
 },
 "nbformat": 4,
 "nbformat_minor": 4
}
