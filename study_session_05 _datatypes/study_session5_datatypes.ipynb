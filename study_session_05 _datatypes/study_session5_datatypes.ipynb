{
 "cells": [
  {
   "cell_type": "markdown",
   "metadata": {},
   "source": [
    "## Study session 5 - Data types \n",
    "### BIOINF 575"
   ]
  },
  {
   "cell_type": "markdown",
   "metadata": {},
   "source": [
    "#### DATATYPES RECAP\n",
    "\n",
    "```\n",
    " STRINGS:      \"\" or    '' or   \"\"\"\"\"\" or   ''''''\n",
    " LISTS:        []\n",
    " TUPLES:       ()\n",
    " DICTIONARIES: {}, the item structure is  key:value\n",
    " SETS:         {}, the item structure is value\n",
    "```\n",
    "\n"
   ]
  },
  {
   "cell_type": "markdown",
   "metadata": {
    "jp-MarkdownHeadingCollapsed": true,
    "tags": []
   },
   "source": [
    "___\n",
    "<b><font color = \"red\">Exercise</font> <br></b>\n",
    "\n",
    "\"Proteins are the end products of the decoding process that starts with the information in cellular DNA. As workhorses of the cell, proteins compose structural and motor elements in the cell, and they serve as the catalysts for virtually every biochemical reaction that occurs in living things. This incredible array of functions derives from a startlingly simple code that specifies a hugely diverse set of structures.\"\n",
    "\n",
    "\"The building blocks of proteins are amino acids, which are small organic molecules that consist of an alpha (central) carbon atom linked to an amino group, a carboxyl group, a hydrogen atom, and a variable component called a side chain (see below). Within a protein, multiple amino acids are linked together by peptide bonds, thereby forming a long chain.\"\n",
    "\n",
    "\"Proteins are built from a set of only twenty amino acids, each of which has a unique side chain.\"\n",
    "\n",
    "https://www.nature.com/scitable/topicpage/protein-structure-14122136/\n",
    "\n",
    "<img src = \"https://cdn.pixabay.com/photo/2013/07/12/17/38/dna-152136_1280.png\" width = 450>&nbsp;&nbsp;&nbsp;&nbsp;&nbsp;&nbsp;&nbsp;&nbsp;&nbsp;&nbsp;&nbsp;&nbsp;&nbsp;&nbsp;&nbsp;&nbsp;&nbsp;&nbsp;&nbsp;&nbsp;\n",
    "<img src = \"https://sphweb.bumc.bu.edu/otlt/MPH-Modules/PH/DNA-Genetics/Transcription-TranslationDetails.png\" width = 420>\n",
    "\n",
    "\n",
    "https://cdn.pixabay.com/photo/2013/07/12/17/38/dna-152136_1280.png &nbsp;&nbsp;&nbsp;&nbsp;&nbsp;     https://sphweb.bumc.bu.edu/otlt/MPH-Modules/PH/DNA-Genetics/Transcription-TranslationDetails.png\n",
    "\n",
    "\n",
    "https://ocw.mit.edu/courses/biology/7-01sc-fundamentals-of-biology-fall-2011/molecular-biology/\n",
    "https://ocw.mit.edu/courses/health-sciences-and-technology/hst-161-molecular-biology-and-genetics-in-modern-medicine-fall-2007/lecture-notes/     \n",
    "https://sphweb.bumc.bu.edu/otlt/MPH-Modules/PH/DNA-Genetics/DNA-Genetics3.html\n",
    "\n",
    "\n",
    "The following string contains the information that allows us to translate DNA code into a sequence of amino acids.\n",
    "\n",
    "```python\n",
    "code = \"'ATA':'I', 'ATC':'I', 'ATT':'I', 'ATG':'M',\\\n",
    "    'ACA':'T', 'ACC':'T', 'ACG':'T', 'ACT':'T',\\\n",
    "    'AAC':'N', 'AAT':'N', 'AAA':'K', 'AAG':'K',\\\n",
    "    'AGC':'S', 'AGT':'S', 'AGA':'R', 'AGG':'R',\\\n",
    "    'CTA':'L', 'CTC':'L', 'CTG':'L', 'CTT':'L',\\\n",
    "    'CCA':'P', 'CCC':'P', 'CCG':'P', 'CCT':'P',\\\n",
    "    'CAC':'H', 'CAT':'H', 'CAA':'Q', 'CAG':'Q',\\\n",
    "    'CGA':'R', 'CGC':'R', 'CGG':'R', 'CGT':'R',\\\n",
    "    'GTA':'V', 'GTC':'V', 'GTG':'V', 'GTT':'V',\\\n",
    "    'GCA':'A', 'GCC':'A', 'GCG':'A', 'GCT':'A',\\\n",
    "    'GAC':'D', 'GAT':'D', 'GAA':'E', 'GAG':'E',\\\n",
    "    'GGA':'G', 'GGC':'G', 'GGG':'G', 'GGT':'G',\\\n",
    "    'TCA':'S', 'TCC':'S', 'TCG':'S', 'TCT':'S',\\\n",
    "    'TTC':'F', 'TTT':'F', 'TTA':'L', 'TTG':'L',\\\n",
    "    'TAC':'Y', 'TAT':'Y', 'TAA':'_', 'TAG':'_',\\\n",
    "    'TGC':'C', 'TGT':'C', 'TGA':'_', 'TGG':'W'\"\n",
    "\n",
    "\n",
    "\n",
    "```\n",
    "\n",
    "The following string contains a DNA sequence:\n",
    "\n",
    "```python\n",
    "DNA_sequence = \"GCCCGGCGTAAAAAT\"\n",
    "```\n",
    "\n",
    "- Use the mapping provided in the first string (`code`) to translate the sequence in the second string (`DNA_sequence`) and create a string of amino acids.\n",
    "\n"
   ]
  },
  {
   "cell_type": "code",
   "execution_count": null,
   "metadata": {
    "tags": []
   },
   "outputs": [],
   "source": [
    "# Write your solution here\n",
    "\n",
    "# What we want to do is use the information in the two strings we have \n",
    "# and translate the DNA sequence is a peptide sequence:\n",
    "\n",
    "# \"GCCCGGCGT...\" becomes \"ARR...\"\n",
    "\n",
    "\n"
   ]
  },
  {
   "cell_type": "code",
   "execution_count": null,
   "metadata": {},
   "outputs": [],
   "source": []
  },
  {
   "cell_type": "code",
   "execution_count": null,
   "metadata": {},
   "outputs": [],
   "source": []
  },
  {
   "cell_type": "code",
   "execution_count": null,
   "metadata": {},
   "outputs": [],
   "source": []
  },
  {
   "cell_type": "markdown",
   "metadata": {},
   "source": [
    "_____\n",
    "\n",
    "<b><font color = \"red\">Exercise</font> <br></b>\n",
    "\n",
    "- Does the DNA sequence from the previous exercise code for Tryptophan? \n",
    "\n",
    "We can look for the codon that codes for Tryptophan in the DNA sequence or we can look for the 1 letter abbreviation in the translated sequence."
   ]
  },
  {
   "cell_type": "code",
   "execution_count": null,
   "metadata": {},
   "outputs": [],
   "source": [
    "DNA_sequence = 'GCCCGGCGTAAAAAT'\n",
    "DNA_sequence"
   ]
  },
  {
   "cell_type": "code",
   "execution_count": null,
   "metadata": {},
   "outputs": [],
   "source": [
    "# Write your solution here:\n",
    "\n",
    "\n"
   ]
  },
  {
   "cell_type": "code",
   "execution_count": null,
   "metadata": {},
   "outputs": [],
   "source": []
  },
  {
   "cell_type": "code",
   "execution_count": null,
   "metadata": {},
   "outputs": [],
   "source": []
  },
  {
   "cell_type": "code",
   "execution_count": null,
   "metadata": {},
   "outputs": [],
   "source": []
  },
  {
   "cell_type": "markdown",
   "metadata": {},
   "source": [
    "<b><font color = \"red\">Exercise</font> <br></b>\n",
    "\n",
    "\n",
    "Use the code from the first exercise to translate each DNA sequence (space is the separator) from the following string into a peptide.\n",
    "\n",
    "```python\n",
    "DNA_sequences = \"GCCGCGCGT AGGATGCCTCCGCAA CCCCAGCGTGCT AAA AAACTA CGCGCGTAGGATGCCTCCGCAACCCCAGCGTGT\"\n",
    "```\n",
    "\n",
    "\n"
   ]
  },
  {
   "cell_type": "code",
   "execution_count": null,
   "metadata": {},
   "outputs": [],
   "source": [
    "# Write your solution here:\n"
   ]
  },
  {
   "cell_type": "code",
   "execution_count": null,
   "metadata": {},
   "outputs": [],
   "source": []
  },
  {
   "cell_type": "code",
   "execution_count": null,
   "metadata": {},
   "outputs": [],
   "source": []
  },
  {
   "cell_type": "code",
   "execution_count": null,
   "metadata": {},
   "outputs": [],
   "source": []
  },
  {
   "cell_type": "markdown",
   "metadata": {},
   "source": [
    "_____\n",
    "\n",
    "<b><font color = \"red\">Exercise</font> <br></b>\n",
    "\n",
    "- Take the following dictionary and create another dictionary where the keys are the same but the value is the number of transcripts that code for that gene"
   ]
  },
  {
   "cell_type": "code",
   "execution_count": null,
   "metadata": {},
   "outputs": [],
   "source": [
    "gene_transcripts_map = { \n",
    "    \"Gene1\": (\"AACGTTACCCCCTTAAGGT\", \"AACGTTACAAGGT\", \"GTTACCCCCTTAAGGT\", \"ACCCCCTTAA\"),\n",
    "    \"Gene2\": (\"TACTGGGGGGGATACCCTAGTACCC\", \"TACGGGGGATACCCTAGTA\"),\n",
    "    \"Gene3\": (\"GTTTTAGCAAAGC\",)\n",
    "}"
   ]
  },
  {
   "cell_type": "code",
   "execution_count": null,
   "metadata": {},
   "outputs": [],
   "source": [
    "# Write your solution here:\n",
    "\n",
    "\n"
   ]
  },
  {
   "cell_type": "code",
   "execution_count": null,
   "metadata": {},
   "outputs": [],
   "source": []
  },
  {
   "cell_type": "code",
   "execution_count": null,
   "metadata": {},
   "outputs": [],
   "source": []
  },
  {
   "cell_type": "code",
   "execution_count": null,
   "metadata": {},
   "outputs": [],
   "source": []
  },
  {
   "cell_type": "markdown",
   "metadata": {},
   "source": [
    "_____\n",
    "\n",
    "<b><font color = \"red\">Exercise</font> <br></b>\n",
    "\n",
    "The following dictionary gives us the mapping between 3 genes and the biological processes they are associated with.\n",
    "\n",
    "- Write code that creates the set of all biological processes for BRCA1 and BRCA2 genes are involved \n",
    "- Write code that gives a True/False answer to the question, are any of these genes involved in transcriptional biological processes?\n",
    "- Write code that checks if a given gene and a given process are associated\n",
    "- Write code that adds the biological process \"mitophagy\" to the BRCA2 set\n",
    "\n"
   ]
  },
  {
   "cell_type": "code",
   "execution_count": null,
   "metadata": {},
   "outputs": [],
   "source": [
    "gene_bp = { \"TP53\": {\"apoptosis\", \"cell senescence\", \"cell-cycle arrest\", \"DNA repair\", \"metabolic adaptations\"},\n",
    "          \"BRCA1\": {\"DNA repair\", \"transcriptional activation\", \"cell cycle regulation\", \"chromatin remodeling\"},\n",
    "          \"BRCA2\": {\"transcriptional and cell cycle regulation\", \"DNA repair\", \"stabilization of replication fork\"}}\n",
    "gene_bp"
   ]
  },
  {
   "cell_type": "code",
   "execution_count": null,
   "metadata": {},
   "outputs": [],
   "source": [
    "# Write your solution here\n"
   ]
  },
  {
   "cell_type": "code",
   "execution_count": null,
   "metadata": {},
   "outputs": [],
   "source": []
  },
  {
   "cell_type": "code",
   "execution_count": null,
   "metadata": {},
   "outputs": [],
   "source": []
  },
  {
   "cell_type": "markdown",
   "metadata": {
    "tags": []
   },
   "source": [
    "___\n",
    "<b><font color = \"red\">Exercise</font> <br><br></b>\n",
    "##### Gene regulatory network\n",
    "\n",
    "\"Formally speaking, a gene regulatory network or genetic regulatory network (GRN) is a collection of DNA segments in a cell which interact with each other (indirectly through their RNA and protein expression products) and with other substances in the cell, thereby governing the rates at which genes in the network are transcribed into mRNA. In general, each mRNA molecule goes on to make a specific protein (or set of proteins).\"  \n",
    "https://link.springer.com/referenceworkentry/10.1007%2F978-1-4419-9863-7_364\n",
    "\n",
    "<img src = \"https://media.springernature.com/original/springer-static/image/prt%3A978-1-4419-9863-7%2F7/MediaObjects/978-1-4419-9863-7_7_Part_Fig1-364_HTML.gif\" width = 200/>\n",
    "\n"
   ]
  },
  {
   "cell_type": "markdown",
   "metadata": {},
   "source": [
    "\n",
    "We have a gene regulatory network represented as a dictionary where the key is a gene from the network above and the value is a tuple of the genes the key gene directly regulates (through orange links only).    \n",
    "\n",
    "- Write code that uses the dictionary and computes and returns the number of genes that a given gene's expression is regualted by. \n",
    "    - In other words, the function would compute the number of incoming orange edges that the gene has in the above network.<BR><BR>\n",
    "\n",
    "- Test the function for at least three cases.\n",
    "\n",
    "\n"
   ]
  },
  {
   "cell_type": "code",
   "execution_count": null,
   "metadata": {},
   "outputs": [],
   "source": [
    "# Write your solution here:\n"
   ]
  },
  {
   "cell_type": "code",
   "execution_count": null,
   "metadata": {},
   "outputs": [],
   "source": []
  },
  {
   "cell_type": "code",
   "execution_count": null,
   "metadata": {},
   "outputs": [],
   "source": []
  },
  {
   "cell_type": "code",
   "execution_count": null,
   "metadata": {},
   "outputs": [],
   "source": []
  },
  {
   "cell_type": "markdown",
   "metadata": {},
   "source": [
    "_____\n",
    "\n",
    "<b><font color = \"red\">Exercise</font> <br></b>\n",
    "\n",
    "- Extract the sequence from the following text and check if it can code for Tryptophan.\n",
    "    - The sequence is at the end of a sentence and should be found after the text \"sequence is : \". \n",
    "- Extract the sequence length from the following text and check if it is the same as the length of the sequence you extracted.\n",
    "    - The sequence length is at the end of a sentence and should be found after the text \"sequence length is : \". \n",
    "- Extract the number of pubmed articles from the following text.\n",
    "    - The the number of pubmed articles should be found between the text \"pubmed returned \" and \" results\". \n",
    "\n",
    "\n",
    "\n",
    "\n",
    "```python\n",
    "\n",
    "text = \"We are analyzing the DNA sequence SRY gene. Which is potentially the shortest gene. The sequence is is: AGAAGTGAGTTTTGGATAGTAAAATAAGTTTCGAACTCTGGCACCTTTCAATTTTGTCGCACTCTCCTTGTTTTTGACAATGCAATCATATGCTTCTGCTATGTTAAGCGTATTCAACAGCGATGATTACAGTCCAGCTGTGCAAGAGAATATTCCCGCTCTCCGGAGAAGCTCTTCCTTCCTTTGCACTGAAAGCTGTAACTCTAAGTATCAGTGTGAAACGGGAGAAAACAGTAAAGGCAACGTCCAGGATAGAGTGAAGCGACCCATGAACGCATTCATCGTGTGGTCTCGCGATCAGAGGCGCAAGATGGCTCTAGAGAATCCCAGAATGCGAAACTCAGAGATCAGCAAGCAGCTGGGATACCAGTGGAAAATGCTTACTGAAGCCGAAAAATGGCCATTCTTCCAGGAGGCACAGAAATTACAGGCCATGCACAGAGAGAAATACCCGAATTATAAGTATCGACCTCGTCGGAAGGCGAAGATGCTGCCGAAGAATTGCAGTTTGCTTCCCGCAGATCCCGCTTCGGTACTCTGCAGCGAAGTGCAACTGGACAACAGGTTGTACAGGGATGACTGTACGAAAGCCACACACTCAAGAATGGAGCACCAGCTAGGCCACTTACCGCCCATCAACGCAGCCAGCTCACCGCAGCAACGGGACCGCTACAGCCACTGGACAAAGCTGTAGGACAATCGGGTAACATTGGCTACAAAGACCTACCTAGATGCTCCTTTTTACGATAACTTACAGCCCTCACTTTCTTATGTTTAGTTTCAATATTGTTTTCTTTTCTCTGGCTAATAAAGGCCTTATTCATTTCA. The sequence length is: 828. The search by 'sry gene' in pubmed returned 204 results. We only checked the abstracts to be searched.\"\n",
    "```"
   ]
  },
  {
   "cell_type": "code",
   "execution_count": null,
   "metadata": {},
   "outputs": [],
   "source": [
    "text = \"We are analyzing the DNA sequence SRY gene. Which is potentially the shortest gene. The sequence is is: AGAAGTGAGTTTTGGATAGTAAAATAAGTTTCGAACTCTGGCACCTTTCAATTTTGTCGCACTCTCCTTGTTTTTGACAATGCAATCATATGCTTCTGCTATGTTAAGCGTATTCAACAGCGATGATTACAGTCCAGCTGTGCAAGAGAATATTCCCGCTCTCCGGAGAAGCTCTTCCTTCCTTTGCACTGAAAGCTGTAACTCTAAGTATCAGTGTGAAACGGGAGAAAACAGTAAAGGCAACGTCCAGGATAGAGTGAAGCGACCCATGAACGCATTCATCGTGTGGTCTCGCGATCAGAGGCGCAAGATGGCTCTAGAGAATCCCAGAATGCGAAACTCAGAGATCAGCAAGCAGCTGGGATACCAGTGGAAAATGCTTACTGAAGCCGAAAAATGGCCATTCTTCCAGGAGGCACAGAAATTACAGGCCATGCACAGAGAGAAATACCCGAATTATAAGTATCGACCTCGTCGGAAGGCGAAGATGCTGCCGAAGAATTGCAGTTTGCTTCCCGCAGATCCCGCTTCGGTACTCTGCAGCGAAGTGCAACTGGACAACAGGTTGTACAGGGATGACTGTACGAAAGCCACACACTCAAGAATGGAGCACCAGCTAGGCCACTTACCGCCCATCAACGCAGCCAGCTCACCGCAGCAACGGGACCGCTACAGCCACTGGACAAAGCTGTAGGACAATCGGGTAACATTGGCTACAAAGACCTACCTAGATGCTCCTTTTTACGATAACTTACAGCCCTCACTTTCTTATGTTTAGTTTCAATATTGTTTTCTTTTCTCTGGCTAATAAAGGCCTTATTCATTTCA. The sequence length is: 828. The search by 'sry gene' in pubmed returned 204 results. We only checked the abstracts to be searched.\"\n",
    "\n",
    "text"
   ]
  },
  {
   "cell_type": "code",
   "execution_count": null,
   "metadata": {},
   "outputs": [],
   "source": [
    "# Write your solution here:\n",
    "\n",
    "\n"
   ]
  },
  {
   "cell_type": "code",
   "execution_count": null,
   "metadata": {},
   "outputs": [],
   "source": []
  },
  {
   "cell_type": "code",
   "execution_count": null,
   "metadata": {},
   "outputs": [],
   "source": []
  },
  {
   "cell_type": "code",
   "execution_count": null,
   "metadata": {},
   "outputs": [],
   "source": []
  },
  {
   "cell_type": "markdown",
   "metadata": {},
   "source": [
    "___\n",
    "<b><font color = \"red\">Exercise</font> <br><br></b>\n",
    "\n",
    "Explain the following code:\n",
    "\n",
    "```python\n",
    "amino_acid_code = { \n",
    "    \"G\": (\"GGA\", \"GGC\", \"GGT\", \"GGT\"),\n",
    "    \"R\": (\"CGA\", \"CGC\", \"CGG\", \"CGT\"),\n",
    "    \"M\": (\"ATG\",)\n",
    "}\n",
    "\n",
    "\n",
    "x = set()\n",
    "nc_group = \"GC\"\n",
    "count_P = \" \".join(amino_acid_code[\"P\"]).count(\"nc_group\")\n",
    "count_R = \" \".join(amino_acid_code[\"R\"]).count(\"nc_group\")\n",
    "count_M = \" \".join(amino_acid_code[\"M\"]).count(\"nc_group\")\n",
    "count_P = \" \".join(amino_acid_code.get(\"S\"), (\"AGC\", \"AGT\")).count(\"nc_group\")\n",
    "print(x)\n",
    "\n",
    "\n",
    "```\n"
   ]
  },
  {
   "cell_type": "code",
   "execution_count": null,
   "metadata": {},
   "outputs": [],
   "source": [
    "# run the code\n",
    "\n",
    "amino_acid_code = { \n",
    "    \"G\": (\"GGA\", \"GGC\", \"GGT\", \"GGT\", \"_GC\"),\n",
    "    \"R\": (\"CGA\", \"CGC\", \"CGG\", \"CGT\"),\n",
    "    \"M\": (\"ATG\",)\n",
    "}\n",
    "\n",
    "\n",
    "x = set()\n",
    "nc_group = \"GC\"\n",
    "count_G = \" \".join(amino_acid_code[\"G\"]).count(nc_group)\n",
    "x.add(count_G)\n",
    "count_R = \" \".join(amino_acid_code[\"R\"]).count(nc_group)\n",
    "x.add(count_R)\n",
    "count_M = \" \".join(amino_acid_code[\"M\"]).count(nc_group)\n",
    "x.add(count_M)\n",
    "count_A = \" \".join(amino_acid_code.get(\"A\", (\"GCA\", \"GCC\", \"GCG\", \"GCT\"))).count(nc_group)\n",
    "x.add(count_A)\n",
    "print(x)"
   ]
  },
  {
   "cell_type": "code",
   "execution_count": null,
   "metadata": {},
   "outputs": [],
   "source": []
  },
  {
   "cell_type": "code",
   "execution_count": null,
   "metadata": {},
   "outputs": [],
   "source": []
  },
  {
   "cell_type": "code",
   "execution_count": null,
   "metadata": {},
   "outputs": [],
   "source": []
  },
  {
   "cell_type": "code",
   "execution_count": null,
   "metadata": {},
   "outputs": [],
   "source": []
  },
  {
   "cell_type": "markdown",
   "metadata": {},
   "source": [
    "_______"
   ]
  }
 ],
 "metadata": {
  "kernelspec": {
   "display_name": "Python 3 (ipykernel)",
   "language": "python",
   "name": "python3"
  },
  "language_info": {
   "codemirror_mode": {
    "name": "ipython",
    "version": 3
   },
   "file_extension": ".py",
   "mimetype": "text/x-python",
   "name": "python",
   "nbconvert_exporter": "python",
   "pygments_lexer": "ipython3",
   "version": "3.12.2"
  }
 },
 "nbformat": 4,
 "nbformat_minor": 4
}
